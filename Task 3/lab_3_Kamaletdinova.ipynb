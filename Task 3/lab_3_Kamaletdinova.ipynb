{
 "cells": [
  {
   "cell_type": "code",
   "execution_count": 26,
   "metadata": {},
   "outputs": [],
   "source": [
    "library(mvtnorm)\n",
    "library(matlib)"
   ]
  },
  {
   "cell_type": "code",
   "execution_count": 27,
   "metadata": {},
   "outputs": [],
   "source": [
    "p <- 3\n",
    "n.W1 <- 150\n",
    "n.W2 <- 150\n",
    "n <- n.W1 + n.W2"
   ]
  },
  {
   "cell_type": "code",
   "execution_count": 28,
   "metadata": {},
   "outputs": [],
   "source": [
    "get_covariance_matrix <- function(n) {\n",
    "    A <- matrix(runif(n^2) * 2 - 1, ncol = n) \n",
    "    Sigma <- t(A) %*% A\n",
    "    \n",
    "    return(Sigma)\n",
    "}\n",
    "get_means_vector <- function(n, a, b) {\n",
    "    mu <- runif(n, a, b)\n",
    "    \n",
    "    return(mu)\n",
    "}"
   ]
  },
  {
   "cell_type": "markdown",
   "metadata": {},
   "source": [
    "## Well separable data"
   ]
  },
  {
   "cell_type": "code",
   "execution_count": 29,
   "metadata": {},
   "outputs": [
    {
     "data": {
      "text/html": [
       "<table>\n",
       "<caption>A matrix: 3 × 3 of type dbl</caption>\n",
       "<tbody>\n",
       "\t<tr><td>1.862422624</td><td> 0.94265821</td><td> 0.007369189</td></tr>\n",
       "\t<tr><td>0.942658213</td><td> 0.52130597</td><td>-0.061378646</td></tr>\n",
       "\t<tr><td>0.007369189</td><td>-0.06137865</td><td> 0.108230849</td></tr>\n",
       "</tbody>\n",
       "</table>\n"
      ],
      "text/latex": [
       "A matrix: 3 × 3 of type dbl\n",
       "\\begin{tabular}{lll}\n",
       "\t 1.862422624 &  0.94265821 &  0.007369189\\\\\n",
       "\t 0.942658213 &  0.52130597 & -0.061378646\\\\\n",
       "\t 0.007369189 & -0.06137865 &  0.108230849\\\\\n",
       "\\end{tabular}\n"
      ],
      "text/markdown": [
       "\n",
       "A matrix: 3 × 3 of type dbl\n",
       "\n",
       "| 1.862422624 |  0.94265821 |  0.007369189 |\n",
       "| 0.942658213 |  0.52130597 | -0.061378646 |\n",
       "| 0.007369189 | -0.06137865 |  0.108230849 |\n",
       "\n"
      ],
      "text/plain": [
       "     [,1]        [,2]        [,3]        \n",
       "[1,] 1.862422624  0.94265821  0.007369189\n",
       "[2,] 0.942658213  0.52130597 -0.061378646\n",
       "[3,] 0.007369189 -0.06137865  0.108230849"
      ]
     },
     "metadata": {},
     "output_type": "display_data"
    }
   ],
   "source": [
    "Sigma.W1 <- get_covariance_matrix(p)\n",
    "Sigma.W2 <- Sigma.W1\n",
    "Sigma.W1"
   ]
  },
  {
   "cell_type": "code",
   "execution_count": 30,
   "metadata": {},
   "outputs": [
    {
     "data": {
      "text/html": [
       "<ol class=list-inline>\n",
       "\t<li>3.72655098559335</li>\n",
       "\t<li>3.32411185931414</li>\n",
       "\t<li>3.2044455751311</li>\n",
       "</ol>\n"
      ],
      "text/latex": [
       "\\begin{enumerate*}\n",
       "\\item 3.72655098559335\n",
       "\\item 3.32411185931414\n",
       "\\item 3.2044455751311\n",
       "\\end{enumerate*}\n"
      ],
      "text/markdown": [
       "1. 3.72655098559335\n",
       "2. 3.32411185931414\n",
       "3. 3.2044455751311\n",
       "\n",
       "\n"
      ],
      "text/plain": [
       "[1] 3.726551 3.324112 3.204446"
      ]
     },
     "metadata": {},
     "output_type": "display_data"
    },
    {
     "data": {
      "text/html": [
       "<ol class=list-inline>\n",
       "\t<li>1.36460095888469</li>\n",
       "\t<li>1.234509413247</li>\n",
       "\t<li>1.03032893466298</li>\n",
       "</ol>\n"
      ],
      "text/latex": [
       "\\begin{enumerate*}\n",
       "\\item 1.36460095888469\n",
       "\\item 1.234509413247\n",
       "\\item 1.03032893466298\n",
       "\\end{enumerate*}\n"
      ],
      "text/markdown": [
       "1. 1.36460095888469\n",
       "2. 1.234509413247\n",
       "3. 1.03032893466298\n",
       "\n",
       "\n"
      ],
      "text/plain": [
       "[1] 1.364601 1.234509 1.030329"
      ]
     },
     "metadata": {},
     "output_type": "display_data"
    }
   ],
   "source": [
    "mu.W1 <- get_means_vector(p, 3, 4)\n",
    "mu.W2 <- get_means_vector(p, 1, 1.5)\n",
    "mu.W1\n",
    "mu.W2"
   ]
  },
  {
   "cell_type": "code",
   "execution_count": 31,
   "metadata": {},
   "outputs": [],
   "source": [
    "X.W1 <- data.frame(rmvnorm(n.W1, mu.W1, Sigma.W1), class = matrix(1, n.W1, 1))\n",
    "X.W2 <- data.frame(rmvnorm(n.W2, mu.W2, Sigma.W2), class = matrix(2, n.W2, 1))"
   ]
  },
  {
   "cell_type": "code",
   "execution_count": 32,
   "metadata": {},
   "outputs": [],
   "source": [
    "q1 <- 0.4\n",
    "q2 <- 1 - q1\n",
    "\n",
    "n.test <- 100"
   ]
  },
  {
   "cell_type": "markdown",
   "metadata": {},
   "source": [
    "### Create test data"
   ]
  },
  {
   "cell_type": "code",
   "execution_count": 33,
   "metadata": {},
   "outputs": [
    {
     "data": {
      "text/html": [
       "<table>\n",
       "<caption>A data.frame: 5 × 4</caption>\n",
       "<thead>\n",
       "\t<tr><th></th><th scope=col>X1</th><th scope=col>X2</th><th scope=col>X3</th><th scope=col>class</th></tr>\n",
       "\t<tr><th></th><th scope=col>&lt;dbl&gt;</th><th scope=col>&lt;dbl&gt;</th><th scope=col>&lt;dbl&gt;</th><th scope=col>&lt;dbl&gt;</th></tr>\n",
       "</thead>\n",
       "<tbody>\n",
       "\t<tr><th scope=row>92</th><td>-0.7240756</td><td>0.1260534</td><td>1.1569803</td><td>2</td></tr>\n",
       "\t<tr><th scope=row>79</th><td> 0.2143908</td><td>0.9956213</td><td>0.5161142</td><td>2</td></tr>\n",
       "\t<tr><th scope=row>49</th><td> 1.7690091</td><td>1.7542950</td><td>0.6450259</td><td>2</td></tr>\n",
       "\t<tr><th scope=row>25</th><td> 4.2805036</td><td>3.5158146</td><td>3.0654554</td><td>1</td></tr>\n",
       "\t<tr><th scope=row>26</th><td> 1.9856671</td><td>2.1509164</td><td>3.5655482</td><td>1</td></tr>\n",
       "</tbody>\n",
       "</table>\n"
      ],
      "text/latex": [
       "A data.frame: 5 × 4\n",
       "\\begin{tabular}{r|llll}\n",
       "  & X1 & X2 & X3 & class\\\\\n",
       "  & <dbl> & <dbl> & <dbl> & <dbl>\\\\\n",
       "\\hline\n",
       "\t92 & -0.7240756 & 0.1260534 & 1.1569803 & 2\\\\\n",
       "\t79 &  0.2143908 & 0.9956213 & 0.5161142 & 2\\\\\n",
       "\t49 &  1.7690091 & 1.7542950 & 0.6450259 & 2\\\\\n",
       "\t25 &  4.2805036 & 3.5158146 & 3.0654554 & 1\\\\\n",
       "\t26 &  1.9856671 & 2.1509164 & 3.5655482 & 1\\\\\n",
       "\\end{tabular}\n"
      ],
      "text/markdown": [
       "\n",
       "A data.frame: 5 × 4\n",
       "\n",
       "| <!--/--> | X1 &lt;dbl&gt; | X2 &lt;dbl&gt; | X3 &lt;dbl&gt; | class &lt;dbl&gt; |\n",
       "|---|---|---|---|---|\n",
       "| 92 | -0.7240756 | 0.1260534 | 1.1569803 | 2 |\n",
       "| 79 |  0.2143908 | 0.9956213 | 0.5161142 | 2 |\n",
       "| 49 |  1.7690091 | 1.7542950 | 0.6450259 | 2 |\n",
       "| 25 |  4.2805036 | 3.5158146 | 3.0654554 | 1 |\n",
       "| 26 |  1.9856671 | 2.1509164 | 3.5655482 | 1 |\n",
       "\n"
      ],
      "text/plain": [
       "   X1         X2        X3        class\n",
       "92 -0.7240756 0.1260534 1.1569803 2    \n",
       "79  0.2143908 0.9956213 0.5161142 2    \n",
       "49  1.7690091 1.7542950 0.6450259 2    \n",
       "25  4.2805036 3.5158146 3.0654554 1    \n",
       "26  1.9856671 2.1509164 3.5655482 1    "
      ]
     },
     "metadata": {},
     "output_type": "display_data"
    }
   ],
   "source": [
    "X.test <- rbind(data.frame(rmvnorm(as.integer(q1 * n.test), mu.W1, Sigma.W1), \n",
    "                           class = matrix(1, as.integer(q1 * n.test), 1)),\n",
    "                data.frame(rmvnorm(as.integer(q2 * n.test), mu.W2, Sigma.W2), \n",
    "                           class = matrix(2, as.integer(q2 * n.test), 1)))\n",
    "X.test <- X.test[sample(nrow(X.test)), ]\n",
    "X.test[0:5, ]"
   ]
  },
  {
   "cell_type": "markdown",
   "metadata": {},
   "source": [
    "### Discriminant function"
   ]
  },
  {
   "cell_type": "code",
   "execution_count": 34,
   "metadata": {},
   "outputs": [
    {
     "data": {
      "text/html": [
       "<table>\n",
       "<caption>A matrix: 3 × 1 of type dbl</caption>\n",
       "<tbody>\n",
       "\t<tr><td>-222.0019</td></tr>\n",
       "\t<tr><td> 438.8968</td></tr>\n",
       "\t<tr><td> 284.1055</td></tr>\n",
       "</tbody>\n",
       "</table>\n"
      ],
      "text/latex": [
       "A matrix: 3 × 1 of type dbl\n",
       "\\begin{tabular}{l}\n",
       "\t -222.0019\\\\\n",
       "\t  438.8968\\\\\n",
       "\t  284.1055\\\\\n",
       "\\end{tabular}\n"
      ],
      "text/markdown": [
       "\n",
       "A matrix: 3 × 1 of type dbl\n",
       "\n",
       "| -222.0019 |\n",
       "|  438.8968 |\n",
       "|  284.1055 |\n",
       "\n"
      ],
      "text/plain": [
       "     [,1]     \n",
       "[1,] -222.0019\n",
       "[2,]  438.8968\n",
       "[3,]  284.1055"
      ]
     },
     "metadata": {},
     "output_type": "display_data"
    }
   ],
   "source": [
    "alpha <- inv(Sigma.W1) %*% (mu.W1 - mu.W2)\n",
    "alpha"
   ]
  },
  {
   "cell_type": "code",
   "execution_count": 35,
   "metadata": {},
   "outputs": [
    {
     "data": {
      "text/html": [
       "1036.82088786109"
      ],
      "text/latex": [
       "1036.82088786109"
      ],
      "text/markdown": [
       "1036.82088786109"
      ],
      "text/plain": [
       "[1] 1036.821"
      ]
     },
     "metadata": {},
     "output_type": "display_data"
    }
   ],
   "source": [
    "xi1 <- sum(alpha * mu.W1)\n",
    "xi2 <- sum(alpha * mu.W2)\n",
    "\n",
    "c <- (xi1 + xi2) / 2\n",
    "c"
   ]
  },
  {
   "cell_type": "code",
   "execution_count": 36,
   "metadata": {},
   "outputs": [],
   "source": [
    "get_sigma_z_squared <- function(alpha, Sigma, p) {\n",
    "    sigma_z.squared = 0\n",
    "    for (m in (1:p)) {\n",
    "        for (j in (1:p)) {\n",
    "            sigma_z.squared = sigma_z.squared + alpha[m] * Sigma[m, j] * alpha[j]\n",
    "        }\n",
    "    } \n",
    "    return(sigma_z.squared)\n",
    "}"
   ]
  },
  {
   "cell_type": "code",
   "execution_count": 37,
   "metadata": {},
   "outputs": [
    {
     "data": {
      "text/html": [
       "1010.44100899251"
      ],
      "text/latex": [
       "1010.44100899251"
      ],
      "text/markdown": [
       "1010.44100899251"
      ],
      "text/plain": [
       "[1] 1010.441"
      ]
     },
     "metadata": {},
     "output_type": "display_data"
    }
   ],
   "source": [
    "sigma_z.squared <- get_sigma_z_squared(alpha, Sigma.W1, p)\n",
    "sigma_z.squared"
   ]
  },
  {
   "cell_type": "code",
   "execution_count": 38,
   "metadata": {},
   "outputs": [
    {
     "data": {
      "text/html": [
       "1010.44100891106"
      ],
      "text/latex": [
       "1010.44100891106"
      ],
      "text/markdown": [
       "1010.44100891106"
      ],
      "text/plain": [
       "[1] 1010.441"
      ]
     },
     "metadata": {},
     "output_type": "display_data"
    }
   ],
   "source": [
    "dist.mhl <- (xi1 - xi2)^2 / sigma_z.squared\n",
    "dist.mhl"
   ]
  },
  {
   "cell_type": "code",
   "execution_count": 39,
   "metadata": {},
   "outputs": [],
   "source": [
    "predict_class <- function(alpha, c, X, q1, q2, xi1, xi2) {\n",
    "    predicted <- matrix(0, dim(X)[1], 1)\n",
    "    \n",
    "    for (i in 1:dim(X)[1]) {\n",
    "        alpha_X <- sum(alpha * X[i,])\n",
    "        predicted[i] = ifelse(alpha_X >= (xi1 + xi2) * 0.5 + log(q2 / q1), 1, 2)\n",
    "    }\n",
    "    \n",
    "    return(predicted)\n",
    "}"
   ]
  },
  {
   "cell_type": "code",
   "execution_count": 40,
   "metadata": {},
   "outputs": [],
   "source": [
    "X.predict <- predict_class(alpha, c, X.test[,-4], q1, q2, xi1, xi2)"
   ]
  },
  {
   "cell_type": "code",
   "execution_count": 41,
   "metadata": {},
   "outputs": [
    {
     "data": {
      "text/html": [
       "40"
      ],
      "text/latex": [
       "40"
      ],
      "text/markdown": [
       "40"
      ],
      "text/plain": [
       "[1] 40"
      ]
     },
     "metadata": {},
     "output_type": "display_data"
    }
   ],
   "source": [
    "length(X.predict[X.predict == 1,])"
   ]
  },
  {
   "cell_type": "code",
   "execution_count": 42,
   "metadata": {},
   "outputs": [
    {
     "data": {
      "text/html": [
       "60"
      ],
      "text/latex": [
       "60"
      ],
      "text/markdown": [
       "60"
      ],
      "text/plain": [
       "[1] 60"
      ]
     },
     "metadata": {},
     "output_type": "display_data"
    }
   ],
   "source": [
    "length(X.predict[X.predict == 2,])"
   ]
  },
  {
   "cell_type": "code",
   "execution_count": 43,
   "metadata": {},
   "outputs": [],
   "source": [
    "X_1.predict <- predict_class(alpha, c, X.W1[,-4], q1, q2, xi1, xi2)"
   ]
  },
  {
   "cell_type": "markdown",
   "metadata": {},
   "source": [
    "### Confusion table"
   ]
  },
  {
   "cell_type": "code",
   "execution_count": 47,
   "metadata": {},
   "outputs": [],
   "source": [
    "get_conf_table <- function(data.predicted, deta.real) {\n",
    "    conf_table.test <- data.frame(matrix(0, 2, 2))\n",
    "    colnames(conf_table.test) <- c(\"1_pred\", \"2_pred\")\n",
    "    rownames(conf_table.test) <- c(\"1_real\", \"2_real\")\n",
    "    \n",
    "    for (i in 1:2) {\n",
    "        for (j in 1:2) {\n",
    "            conf_table.test[i, j] <- sum(data.predicted[which(deta.real == i),] == j)\n",
    "        }\n",
    "    }\n",
    "    \n",
    "    return(conf_table.test)\n",
    "    \n",
    "}"
   ]
  },
  {
   "cell_type": "code",
   "execution_count": 45,
   "metadata": {},
   "outputs": [
    {
     "data": {
      "text/html": [
       "<table>\n",
       "<caption>A data.frame: 2 × 2</caption>\n",
       "<thead>\n",
       "\t<tr><th></th><th scope=col>1_pred</th><th scope=col>2_pred</th></tr>\n",
       "\t<tr><th></th><th scope=col>&lt;dbl&gt;</th><th scope=col>&lt;dbl&gt;</th></tr>\n",
       "</thead>\n",
       "<tbody>\n",
       "\t<tr><th scope=row>1_real</th><td>40</td><td> 0</td></tr>\n",
       "\t<tr><th scope=row>2_real</th><td> 0</td><td>60</td></tr>\n",
       "</tbody>\n",
       "</table>\n"
      ],
      "text/latex": [
       "A data.frame: 2 × 2\n",
       "\\begin{tabular}{r|ll}\n",
       "  & 1\\_pred & 2\\_pred\\\\\n",
       "  & <dbl> & <dbl>\\\\\n",
       "\\hline\n",
       "\t1\\_real & 40 &  0\\\\\n",
       "\t2\\_real &  0 & 60\\\\\n",
       "\\end{tabular}\n"
      ],
      "text/markdown": [
       "\n",
       "A data.frame: 2 × 2\n",
       "\n",
       "| <!--/--> | 1_pred &lt;dbl&gt; | 2_pred &lt;dbl&gt; |\n",
       "|---|---|---|\n",
       "| 1_real | 40 |  0 |\n",
       "| 2_real |  0 | 60 |\n",
       "\n"
      ],
      "text/plain": [
       "       1_pred 2_pred\n",
       "1_real 40      0    \n",
       "2_real  0     60    "
      ]
     },
     "metadata": {},
     "output_type": "display_data"
    }
   ],
   "source": [
    "get_conf_table(X.predict, X.test$class)"
   ]
  },
  {
   "cell_type": "code",
   "execution_count": 46,
   "metadata": {},
   "outputs": [
    {
     "data": {
      "text/html": [
       "100"
      ],
      "text/latex": [
       "100"
      ],
      "text/markdown": [
       "100"
      ],
      "text/plain": [
       "[1] 100"
      ]
     },
     "metadata": {},
     "output_type": "display_data"
    }
   ],
   "source": [
    "sum(X.predict == X.test$class)"
   ]
  },
  {
   "cell_type": "markdown",
   "metadata": {},
   "source": [
    "## Badly separable data"
   ]
  },
  {
   "cell_type": "code",
   "execution_count": 48,
   "metadata": {},
   "outputs": [
    {
     "data": {
      "text/html": [
       "<table>\n",
       "<caption>A matrix: 3 × 3 of type dbl</caption>\n",
       "<tbody>\n",
       "\t<tr><td> 1.6584829</td><td>-0.3333887</td><td> 1.1790574</td></tr>\n",
       "\t<tr><td>-0.3333887</td><td> 1.6829961</td><td>-0.7560935</td></tr>\n",
       "\t<tr><td> 1.1790574</td><td>-0.7560935</td><td> 1.1013027</td></tr>\n",
       "</tbody>\n",
       "</table>\n"
      ],
      "text/latex": [
       "A matrix: 3 × 3 of type dbl\n",
       "\\begin{tabular}{lll}\n",
       "\t  1.6584829 & -0.3333887 &  1.1790574\\\\\n",
       "\t -0.3333887 &  1.6829961 & -0.7560935\\\\\n",
       "\t  1.1790574 & -0.7560935 &  1.1013027\\\\\n",
       "\\end{tabular}\n"
      ],
      "text/markdown": [
       "\n",
       "A matrix: 3 × 3 of type dbl\n",
       "\n",
       "|  1.6584829 | -0.3333887 |  1.1790574 |\n",
       "| -0.3333887 |  1.6829961 | -0.7560935 |\n",
       "|  1.1790574 | -0.7560935 |  1.1013027 |\n",
       "\n"
      ],
      "text/plain": [
       "     [,1]       [,2]       [,3]      \n",
       "[1,]  1.6584829 -0.3333887  1.1790574\n",
       "[2,] -0.3333887  1.6829961 -0.7560935\n",
       "[3,]  1.1790574 -0.7560935  1.1013027"
      ]
     },
     "metadata": {},
     "output_type": "display_data"
    }
   ],
   "source": [
    "Sigma.W1.bad <- get_covariance_matrix(p)\n",
    "Sigma.W2.bad <- Sigma.W1.bad\n",
    "Sigma.W1.bad"
   ]
  },
  {
   "cell_type": "code",
   "execution_count": 50,
   "metadata": {},
   "outputs": [
    {
     "data": {
      "text/html": [
       "<ol class=list-inline>\n",
       "\t<li>1.366229098849</li>\n",
       "\t<li>1.51402074433863</li>\n",
       "\t<li>1.2724751457572</li>\n",
       "</ol>\n"
      ],
      "text/latex": [
       "\\begin{enumerate*}\n",
       "\\item 1.366229098849\n",
       "\\item 1.51402074433863\n",
       "\\item 1.2724751457572\n",
       "\\end{enumerate*}\n"
      ],
      "text/markdown": [
       "1. 1.366229098849\n",
       "2. 1.51402074433863\n",
       "3. 1.2724751457572\n",
       "\n",
       "\n"
      ],
      "text/plain": [
       "[1] 1.366229 1.514021 1.272475"
      ]
     },
     "metadata": {},
     "output_type": "display_data"
    },
    {
     "data": {
      "text/html": [
       "<ol class=list-inline>\n",
       "\t<li>1.26841561216861</li>\n",
       "\t<li>1.12564484088216</li>\n",
       "\t<li>1.08289428078569</li>\n",
       "</ol>\n"
      ],
      "text/latex": [
       "\\begin{enumerate*}\n",
       "\\item 1.26841561216861\n",
       "\\item 1.12564484088216\n",
       "\\item 1.08289428078569\n",
       "\\end{enumerate*}\n"
      ],
      "text/markdown": [
       "1. 1.26841561216861\n",
       "2. 1.12564484088216\n",
       "3. 1.08289428078569\n",
       "\n",
       "\n"
      ],
      "text/plain": [
       "[1] 1.268416 1.125645 1.082894"
      ]
     },
     "metadata": {},
     "output_type": "display_data"
    }
   ],
   "source": [
    "mu.W1.bad <- get_means_vector(p, 1.2, 2)\n",
    "mu.W2.bad <- get_means_vector(p, 1, 1.5)\n",
    "mu.W1.bad\n",
    "mu.W2.bad"
   ]
  },
  {
   "cell_type": "code",
   "execution_count": 51,
   "metadata": {},
   "outputs": [
    {
     "data": {
      "text/html": [
       "<table>\n",
       "<caption>A data.frame: 5 × 4</caption>\n",
       "<thead>\n",
       "\t<tr><th></th><th scope=col>X1</th><th scope=col>X2</th><th scope=col>X3</th><th scope=col>class</th></tr>\n",
       "\t<tr><th></th><th scope=col>&lt;dbl&gt;</th><th scope=col>&lt;dbl&gt;</th><th scope=col>&lt;dbl&gt;</th><th scope=col>&lt;dbl&gt;</th></tr>\n",
       "</thead>\n",
       "<tbody>\n",
       "\t<tr><th scope=row>28</th><td>-0.5505544</td><td> 1.25402254</td><td>0.4912645</td><td>1</td></tr>\n",
       "\t<tr><th scope=row>6</th><td> 3.5299695</td><td>-0.19634002</td><td>3.1834345</td><td>1</td></tr>\n",
       "\t<tr><th scope=row>75</th><td> 2.6995519</td><td> 0.03006373</td><td>2.0105399</td><td>2</td></tr>\n",
       "\t<tr><th scope=row>27</th><td> 1.4125120</td><td>-0.68459986</td><td>2.5798690</td><td>1</td></tr>\n",
       "\t<tr><th scope=row>36</th><td> 2.1712297</td><td> 3.39131885</td><td>0.3676728</td><td>1</td></tr>\n",
       "</tbody>\n",
       "</table>\n"
      ],
      "text/latex": [
       "A data.frame: 5 × 4\n",
       "\\begin{tabular}{r|llll}\n",
       "  & X1 & X2 & X3 & class\\\\\n",
       "  & <dbl> & <dbl> & <dbl> & <dbl>\\\\\n",
       "\\hline\n",
       "\t28 & -0.5505544 &  1.25402254 & 0.4912645 & 1\\\\\n",
       "\t6 &  3.5299695 & -0.19634002 & 3.1834345 & 1\\\\\n",
       "\t75 &  2.6995519 &  0.03006373 & 2.0105399 & 2\\\\\n",
       "\t27 &  1.4125120 & -0.68459986 & 2.5798690 & 1\\\\\n",
       "\t36 &  2.1712297 &  3.39131885 & 0.3676728 & 1\\\\\n",
       "\\end{tabular}\n"
      ],
      "text/markdown": [
       "\n",
       "A data.frame: 5 × 4\n",
       "\n",
       "| <!--/--> | X1 &lt;dbl&gt; | X2 &lt;dbl&gt; | X3 &lt;dbl&gt; | class &lt;dbl&gt; |\n",
       "|---|---|---|---|---|\n",
       "| 28 | -0.5505544 |  1.25402254 | 0.4912645 | 1 |\n",
       "| 6 |  3.5299695 | -0.19634002 | 3.1834345 | 1 |\n",
       "| 75 |  2.6995519 |  0.03006373 | 2.0105399 | 2 |\n",
       "| 27 |  1.4125120 | -0.68459986 | 2.5798690 | 1 |\n",
       "| 36 |  2.1712297 |  3.39131885 | 0.3676728 | 1 |\n",
       "\n"
      ],
      "text/plain": [
       "   X1         X2          X3        class\n",
       "28 -0.5505544  1.25402254 0.4912645 1    \n",
       "6   3.5299695 -0.19634002 3.1834345 1    \n",
       "75  2.6995519  0.03006373 2.0105399 2    \n",
       "27  1.4125120 -0.68459986 2.5798690 1    \n",
       "36  2.1712297  3.39131885 0.3676728 1    "
      ]
     },
     "metadata": {},
     "output_type": "display_data"
    }
   ],
   "source": [
    "X.W1.bad <- data.frame(rmvnorm(n.W1, mu.W1.bad, Sigma.W1.bad), \n",
    "                       class = matrix(1, n.W1, 1))\n",
    "X.W2.bad <- data.frame(rmvnorm(n.W2, mu.W2.bad, Sigma.W2.bad), \n",
    "                       class = matrix(2, n.W2, 1))\n",
    "\n",
    "X.test.bad <- rbind(data.frame(rmvnorm(as.integer(q1 * n.test), mu.W1.bad, Sigma.W1.bad), \n",
    "                           class = matrix(1, as.integer(q1 * n.test), 1)),\n",
    "                    data.frame(rmvnorm(as.integer(q2 * n.test), mu.W2.bad, Sigma.W2.bad), \n",
    "                           class = matrix(2, as.integer(q2 * n.test), 1)))\n",
    "\n",
    "X.test.bad <- X.test.bad[sample(nrow(X.test.bad)), ]\n",
    "X.test.bad[0:5, ]"
   ]
  },
  {
   "cell_type": "code",
   "execution_count": 52,
   "metadata": {},
   "outputs": [
    {
     "data": {
      "text/html": [
       "<table>\n",
       "<caption>A matrix: 3 × 1 of type dbl</caption>\n",
       "<tbody>\n",
       "\t<tr><td>-1.574923</td></tr>\n",
       "\t<tr><td> 1.089722</td></tr>\n",
       "\t<tr><td> 2.606402</td></tr>\n",
       "</tbody>\n",
       "</table>\n"
      ],
      "text/latex": [
       "A matrix: 3 × 1 of type dbl\n",
       "\\begin{tabular}{l}\n",
       "\t -1.574923\\\\\n",
       "\t  1.089722\\\\\n",
       "\t  2.606402\\\\\n",
       "\\end{tabular}\n"
      ],
      "text/markdown": [
       "\n",
       "A matrix: 3 × 1 of type dbl\n",
       "\n",
       "| -1.574923 |\n",
       "|  1.089722 |\n",
       "|  2.606402 |\n",
       "\n"
      ],
      "text/plain": [
       "     [,1]     \n",
       "[1,] -1.574923\n",
       "[2,]  1.089722\n",
       "[3,]  2.606402"
      ]
     },
     "metadata": {},
     "output_type": "display_data"
    }
   ],
   "source": [
    "alpha.bad <- inv(Sigma.W1.bad) %*% (mu.W1.bad - mu.W2.bad)\n",
    "alpha.bad"
   ]
  },
  {
   "cell_type": "code",
   "execution_count": 53,
   "metadata": {},
   "outputs": [
    {
     "data": {
      "text/html": [
       "2.43308905150678"
      ],
      "text/latex": [
       "2.43308905150678"
      ],
      "text/markdown": [
       "2.43308905150678"
      ],
      "text/plain": [
       "[1] 2.433089"
      ]
     },
     "metadata": {},
     "output_type": "display_data"
    }
   ],
   "source": [
    "xi1.bad <- sum(alpha.bad * mu.W1.bad)\n",
    "xi2.bad <- sum(alpha.bad * mu.W2.bad)\n",
    "\n",
    "c.bad <- (xi1.bad + xi2.bad) / 2\n",
    "c.bad"
   ]
  },
  {
   "cell_type": "code",
   "execution_count": 54,
   "metadata": {},
   "outputs": [
    {
     "data": {
      "text/html": [
       "0.763296940115424"
      ],
      "text/latex": [
       "0.763296940115424"
      ],
      "text/markdown": [
       "0.763296940115424"
      ],
      "text/plain": [
       "[1] 0.7632969"
      ]
     },
     "metadata": {},
     "output_type": "display_data"
    }
   ],
   "source": [
    "sigma_z.squared.bad <- get_sigma_z_squared(alpha.bad, Sigma.W1.bad, p)\n",
    "sigma_z.squared.bad"
   ]
  },
  {
   "cell_type": "code",
   "execution_count": 55,
   "metadata": {},
   "outputs": [
    {
     "data": {
      "text/html": [
       "0.76329694240266"
      ],
      "text/latex": [
       "0.76329694240266"
      ],
      "text/markdown": [
       "0.76329694240266"
      ],
      "text/plain": [
       "[1] 0.7632969"
      ]
     },
     "metadata": {},
     "output_type": "display_data"
    }
   ],
   "source": [
    "dist.mhl.bad <- (xi1.bad - xi2.bad)^2 / sigma_z.squared.bad\n",
    "dist.mhl.bad"
   ]
  },
  {
   "cell_type": "code",
   "execution_count": 56,
   "metadata": {},
   "outputs": [],
   "source": [
    "X.predict.bad <- predict_class(alpha.bad, c.bad, \n",
    "                               X.test.bad[,-4], \n",
    "                               q1, q2, \n",
    "                               xi1.bad, xi2.bad)"
   ]
  },
  {
   "cell_type": "code",
   "execution_count": 57,
   "metadata": {},
   "outputs": [
    {
     "data": {
      "text/html": [
       "<table>\n",
       "<caption>A data.frame: 2 × 2</caption>\n",
       "<thead>\n",
       "\t<tr><th></th><th scope=col>1_pred</th><th scope=col>2_pred</th></tr>\n",
       "\t<tr><th></th><th scope=col>&lt;dbl&gt;</th><th scope=col>&lt;dbl&gt;</th></tr>\n",
       "</thead>\n",
       "<tbody>\n",
       "\t<tr><th scope=row>1_real</th><td>20</td><td>20</td></tr>\n",
       "\t<tr><th scope=row>2_real</th><td>10</td><td>50</td></tr>\n",
       "</tbody>\n",
       "</table>\n"
      ],
      "text/latex": [
       "A data.frame: 2 × 2\n",
       "\\begin{tabular}{r|ll}\n",
       "  & 1\\_pred & 2\\_pred\\\\\n",
       "  & <dbl> & <dbl>\\\\\n",
       "\\hline\n",
       "\t1\\_real & 20 & 20\\\\\n",
       "\t2\\_real & 10 & 50\\\\\n",
       "\\end{tabular}\n"
      ],
      "text/markdown": [
       "\n",
       "A data.frame: 2 × 2\n",
       "\n",
       "| <!--/--> | 1_pred &lt;dbl&gt; | 2_pred &lt;dbl&gt; |\n",
       "|---|---|---|\n",
       "| 1_real | 20 | 20 |\n",
       "| 2_real | 10 | 50 |\n",
       "\n"
      ],
      "text/plain": [
       "       1_pred 2_pred\n",
       "1_real 20     20    \n",
       "2_real 10     50    "
      ]
     },
     "metadata": {},
     "output_type": "display_data"
    }
   ],
   "source": [
    "get_conf_table(X.predict.bad, X.test.bad$class)"
   ]
  },
  {
   "cell_type": "code",
   "execution_count": null,
   "metadata": {},
   "outputs": [],
   "source": []
  }
 ],
 "metadata": {
  "kernelspec": {
   "display_name": "R 3.6.0",
   "language": "R",
   "name": "ir36"
  },
  "language_info": {
   "codemirror_mode": "r",
   "file_extension": ".r",
   "mimetype": "text/x-r-source",
   "name": "R",
   "pygments_lexer": "r",
   "version": "3.6.1"
  }
 },
 "nbformat": 4,
 "nbformat_minor": 4
}
