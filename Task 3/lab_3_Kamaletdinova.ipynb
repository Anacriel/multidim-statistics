{
 "cells": [
  {
   "cell_type": "code",
   "execution_count": 29,
   "metadata": {},
   "outputs": [],
   "source": [
    "library(mvtnorm)\n",
    "library(matlib)\n",
    "library(splitstackshape)"
   ]
  },
  {
   "cell_type": "code",
   "execution_count": 304,
   "metadata": {},
   "outputs": [],
   "source": [
    "p <- 3\n",
    "n.W1 <- 200\n",
    "n.W2 <- 300\n",
    "n <- n.W1 + n.W2"
   ]
  },
  {
   "cell_type": "code",
   "execution_count": 305,
   "metadata": {},
   "outputs": [],
   "source": [
    "get_covariance_matrix <- function(n) {\n",
    "    A <- matrix(runif(n^2) * 2 - 1, ncol = n) \n",
    "    Sigma <- t(A) %*% A\n",
    "    \n",
    "    return(Sigma)\n",
    "}\n",
    "get_means_vector <- function(n, a, b) {\n",
    "    mu <- runif(n, a, b)\n",
    "    \n",
    "    return(mu)\n",
    "}"
   ]
  },
  {
   "cell_type": "markdown",
   "metadata": {},
   "source": [
    "## Well separable data"
   ]
  },
  {
   "cell_type": "code",
   "execution_count": 306,
   "metadata": {},
   "outputs": [
    {
     "data": {
      "text/html": [
       "<table>\n",
       "<caption>A matrix: 3 × 3 of type dbl</caption>\n",
       "<tbody>\n",
       "\t<tr><td> 0.5179821</td><td> 0.16722670</td><td>-0.58226982</td></tr>\n",
       "\t<tr><td> 0.1672267</td><td> 0.95793159</td><td>-0.09105213</td></tr>\n",
       "\t<tr><td>-0.5822698</td><td>-0.09105213</td><td> 0.67014613</td></tr>\n",
       "</tbody>\n",
       "</table>\n"
      ],
      "text/latex": [
       "A matrix: 3 × 3 of type dbl\n",
       "\\begin{tabular}{lll}\n",
       "\t  0.5179821 &  0.16722670 & -0.58226982\\\\\n",
       "\t  0.1672267 &  0.95793159 & -0.09105213\\\\\n",
       "\t -0.5822698 & -0.09105213 &  0.67014613\\\\\n",
       "\\end{tabular}\n"
      ],
      "text/markdown": [
       "\n",
       "A matrix: 3 × 3 of type dbl\n",
       "\n",
       "|  0.5179821 |  0.16722670 | -0.58226982 |\n",
       "|  0.1672267 |  0.95793159 | -0.09105213 |\n",
       "| -0.5822698 | -0.09105213 |  0.67014613 |\n",
       "\n"
      ],
      "text/plain": [
       "     [,1]       [,2]        [,3]       \n",
       "[1,]  0.5179821  0.16722670 -0.58226982\n",
       "[2,]  0.1672267  0.95793159 -0.09105213\n",
       "[3,] -0.5822698 -0.09105213  0.67014613"
      ]
     },
     "metadata": {},
     "output_type": "display_data"
    }
   ],
   "source": [
    "Sigma.W1 <- get_covariance_matrix(p)\n",
    "Sigma.W2 <- Sigma.W1\n",
    "Sigma.W1"
   ]
  },
  {
   "cell_type": "code",
   "execution_count": 307,
   "metadata": {},
   "outputs": [
    {
     "data": {
      "text/html": [
       "<ol class=list-inline>\n",
       "\t<li>4.36029106366914</li>\n",
       "\t<li>4.03150058398023</li>\n",
       "\t<li>4.23014801670797</li>\n",
       "</ol>\n"
      ],
      "text/latex": [
       "\\begin{enumerate*}\n",
       "\\item 4.36029106366914\n",
       "\\item 4.03150058398023\n",
       "\\item 4.23014801670797\n",
       "\\end{enumerate*}\n"
      ],
      "text/markdown": [
       "1. 4.36029106366914\n",
       "2. 4.03150058398023\n",
       "3. 4.23014801670797\n",
       "\n",
       "\n"
      ],
      "text/plain": [
       "[1] 4.360291 4.031501 4.230148"
      ]
     },
     "metadata": {},
     "output_type": "display_data"
    },
    {
     "data": {
      "text/html": [
       "<ol class=list-inline>\n",
       "\t<li>1.03599332168233</li>\n",
       "\t<li>1.03071374841966</li>\n",
       "\t<li>1.34250365011394</li>\n",
       "</ol>\n"
      ],
      "text/latex": [
       "\\begin{enumerate*}\n",
       "\\item 1.03599332168233\n",
       "\\item 1.03071374841966\n",
       "\\item 1.34250365011394\n",
       "\\end{enumerate*}\n"
      ],
      "text/markdown": [
       "1. 1.03599332168233\n",
       "2. 1.03071374841966\n",
       "3. 1.34250365011394\n",
       "\n",
       "\n"
      ],
      "text/plain": [
       "[1] 1.035993 1.030714 1.342504"
      ]
     },
     "metadata": {},
     "output_type": "display_data"
    }
   ],
   "source": [
    "mu.W1 <- get_means_vector(p, 4, 4.5)\n",
    "mu.W2 <- get_means_vector(p, 1, 1.5)\n",
    "mu.W1\n",
    "mu.W2"
   ]
  },
  {
   "cell_type": "code",
   "execution_count": 308,
   "metadata": {},
   "outputs": [],
   "source": [
    "X.W1 <- data.frame(rmvnorm(n.W1, mu.W1, Sigma.W1), class = matrix(1, n.W1, 1))\n",
    "X.W2 <- data.frame(rmvnorm(n.W2, mu.W2, Sigma.W2), class = matrix(2, n.W2, 1))"
   ]
  },
  {
   "cell_type": "code",
   "execution_count": 309,
   "metadata": {},
   "outputs": [],
   "source": [
    "q1 <- 0.4\n",
    "q2 <- 1 - q1\n",
    "\n",
    "n.test <- 100"
   ]
  },
  {
   "cell_type": "markdown",
   "metadata": {},
   "source": [
    "### Create test data"
   ]
  },
  {
   "cell_type": "code",
   "execution_count": 310,
   "metadata": {},
   "outputs": [
    {
     "data": {
      "text/html": [
       "<table>\n",
       "<caption>A data.frame: 5 × 4</caption>\n",
       "<thead>\n",
       "\t<tr><th></th><th scope=col>X1</th><th scope=col>X2</th><th scope=col>X3</th><th scope=col>class</th></tr>\n",
       "\t<tr><th></th><th scope=col>&lt;dbl&gt;</th><th scope=col>&lt;dbl&gt;</th><th scope=col>&lt;dbl&gt;</th><th scope=col>&lt;dbl&gt;</th></tr>\n",
       "</thead>\n",
       "<tbody>\n",
       "\t<tr><th scope=row>4</th><td> 4.9170563</td><td>4.8272296</td><td>3.6796267</td><td>1</td></tr>\n",
       "\t<tr><th scope=row>80</th><td>-0.6996080</td><td>0.6834116</td><td>3.2081293</td><td>2</td></tr>\n",
       "\t<tr><th scope=row>66</th><td> 0.5794488</td><td>1.7966245</td><td>2.0081490</td><td>2</td></tr>\n",
       "\t<tr><th scope=row>57</th><td> 1.6777706</td><td>1.0999067</td><td>0.5733355</td><td>2</td></tr>\n",
       "\t<tr><th scope=row>79</th><td> 0.6236528</td><td>0.7843591</td><td>1.8890216</td><td>2</td></tr>\n",
       "</tbody>\n",
       "</table>\n"
      ],
      "text/latex": [
       "A data.frame: 5 × 4\n",
       "\\begin{tabular}{r|llll}\n",
       "  & X1 & X2 & X3 & class\\\\\n",
       "  & <dbl> & <dbl> & <dbl> & <dbl>\\\\\n",
       "\\hline\n",
       "\t4 &  4.9170563 & 4.8272296 & 3.6796267 & 1\\\\\n",
       "\t80 & -0.6996080 & 0.6834116 & 3.2081293 & 2\\\\\n",
       "\t66 &  0.5794488 & 1.7966245 & 2.0081490 & 2\\\\\n",
       "\t57 &  1.6777706 & 1.0999067 & 0.5733355 & 2\\\\\n",
       "\t79 &  0.6236528 & 0.7843591 & 1.8890216 & 2\\\\\n",
       "\\end{tabular}\n"
      ],
      "text/markdown": [
       "\n",
       "A data.frame: 5 × 4\n",
       "\n",
       "| <!--/--> | X1 &lt;dbl&gt; | X2 &lt;dbl&gt; | X3 &lt;dbl&gt; | class &lt;dbl&gt; |\n",
       "|---|---|---|---|---|\n",
       "| 4 |  4.9170563 | 4.8272296 | 3.6796267 | 1 |\n",
       "| 80 | -0.6996080 | 0.6834116 | 3.2081293 | 2 |\n",
       "| 66 |  0.5794488 | 1.7966245 | 2.0081490 | 2 |\n",
       "| 57 |  1.6777706 | 1.0999067 | 0.5733355 | 2 |\n",
       "| 79 |  0.6236528 | 0.7843591 | 1.8890216 | 2 |\n",
       "\n"
      ],
      "text/plain": [
       "   X1         X2        X3        class\n",
       "4   4.9170563 4.8272296 3.6796267 1    \n",
       "80 -0.6996080 0.6834116 3.2081293 2    \n",
       "66  0.5794488 1.7966245 2.0081490 2    \n",
       "57  1.6777706 1.0999067 0.5733355 2    \n",
       "79  0.6236528 0.7843591 1.8890216 2    "
      ]
     },
     "metadata": {},
     "output_type": "display_data"
    }
   ],
   "source": [
    "X.test <- rbind(data.frame(rmvnorm(as.integer(q1 * n.test), mu.W1, Sigma.W1), \n",
    "                           class = matrix(1, as.integer(q1 * n.test), 1)),\n",
    "                data.frame(rmvnorm(as.integer(q2 * n.test), mu.W2, Sigma.W2), \n",
    "                           class = matrix(2, as.integer(q2 * n.test), 1)))\n",
    "X.test <- X.test[sample(nrow(X.test)), ]\n",
    "X.test[0:5, ]"
   ]
  },
  {
   "cell_type": "markdown",
   "metadata": {},
   "source": [
    "### Discriminant function"
   ]
  },
  {
   "cell_type": "code",
   "execution_count": 311,
   "metadata": {},
   "outputs": [
    {
     "data": {
      "text/html": [
       "<table>\n",
       "<caption>A matrix: 3 × 1 of type dbl</caption>\n",
       "<tbody>\n",
       "\t<tr><td>1431.4422</td></tr>\n",
       "\t<tr><td>-129.8038</td></tr>\n",
       "\t<tr><td>1230.4098</td></tr>\n",
       "</tbody>\n",
       "</table>\n"
      ],
      "text/latex": [
       "A matrix: 3 × 1 of type dbl\n",
       "\\begin{tabular}{l}\n",
       "\t 1431.4422\\\\\n",
       "\t -129.8038\\\\\n",
       "\t 1230.4098\\\\\n",
       "\\end{tabular}\n"
      ],
      "text/markdown": [
       "\n",
       "A matrix: 3 × 1 of type dbl\n",
       "\n",
       "| 1431.4422 |\n",
       "| -129.8038 |\n",
       "| 1230.4098 |\n",
       "\n"
      ],
      "text/plain": [
       "     [,1]     \n",
       "[1,] 1431.4422\n",
       "[2,] -129.8038\n",
       "[3,] 1230.4098"
      ]
     },
     "metadata": {},
     "output_type": "display_data"
    }
   ],
   "source": [
    "alpha <- inv(Sigma.W1) %*% (mu.W1 - mu.W2)\n",
    "alpha"
   ]
  },
  {
   "cell_type": "code",
   "execution_count": 312,
   "metadata": {},
   "outputs": [
    {
     "data": {
      "text/html": [
       "6962.0098835616"
      ],
      "text/latex": [
       "6962.0098835616"
      ],
      "text/markdown": [
       "6962.0098835616"
      ],
      "text/plain": [
       "[1] 6962.01"
      ]
     },
     "metadata": {},
     "output_type": "display_data"
    }
   ],
   "source": [
    "xi1 <- sum(alpha * mu.W1)\n",
    "xi2 <- sum(alpha * mu.W2)\n",
    "\n",
    "c <- (xi1 + xi2) / 2\n",
    "c"
   ]
  },
  {
   "cell_type": "code",
   "execution_count": 313,
   "metadata": {},
   "outputs": [],
   "source": [
    "get_sigma_z_squared <- function(alpha, Sigma, p) {\n",
    "    sigma_z.squared = 0\n",
    "    for (m in (1:p)) {\n",
    "        for (j in (1:p)) {\n",
    "            sigma_z.squared = sigma_z.squared + alpha[m] * Sigma[m, j] * alpha[j]\n",
    "        }\n",
    "    } \n",
    "    return(sigma_z.squared)\n",
    "}"
   ]
  },
  {
   "cell_type": "code",
   "execution_count": 314,
   "metadata": {},
   "outputs": [
    {
     "data": {
      "text/html": [
       "7922.01249183039"
      ],
      "text/latex": [
       "7922.01249183039"
      ],
      "text/markdown": [
       "7922.01249183039"
      ],
      "text/plain": [
       "[1] 7922.012"
      ]
     },
     "metadata": {},
     "output_type": "display_data"
    }
   ],
   "source": [
    "sigma_z.squared <- get_sigma_z_squared(alpha, Sigma.W1, p)\n",
    "sigma_z.squared"
   ]
  },
  {
   "cell_type": "code",
   "execution_count": 315,
   "metadata": {},
   "outputs": [
    {
     "data": {
      "text/html": [
       "7922.01249159638"
      ],
      "text/latex": [
       "7922.01249159638"
      ],
      "text/markdown": [
       "7922.01249159638"
      ],
      "text/plain": [
       "[1] 7922.012"
      ]
     },
     "metadata": {},
     "output_type": "display_data"
    }
   ],
   "source": [
    "dist.mhl <- (xi1 - xi2)^2 / sigma_z.squared\n",
    "dist.mhl"
   ]
  },
  {
   "cell_type": "code",
   "execution_count": 316,
   "metadata": {},
   "outputs": [],
   "source": [
    "predict_class <- function(alpha, c, X, q1, q2, xi1, xi2) {\n",
    "    predicted <- matrix(0, dim(X)[1], 1)\n",
    "    \n",
    "    for (i in 1:dim(X)[1]) {\n",
    "        alpha_X <- sum(alpha * X[i,])\n",
    "        predicted[i] = ifelse(alpha_X >= (xi1 + xi2) * 0.5 + log(q2 / q1), 1, 2)\n",
    "    }\n",
    "    \n",
    "    return(predicted)\n",
    "}"
   ]
  },
  {
   "cell_type": "code",
   "execution_count": 317,
   "metadata": {},
   "outputs": [],
   "source": [
    "X.predict <- predict_class(alpha, c, X.test[,-4], q1, q2, xi1, xi2)"
   ]
  },
  {
   "cell_type": "code",
   "execution_count": 318,
   "metadata": {},
   "outputs": [
    {
     "data": {
      "text/html": [
       "40"
      ],
      "text/latex": [
       "40"
      ],
      "text/markdown": [
       "40"
      ],
      "text/plain": [
       "[1] 40"
      ]
     },
     "metadata": {},
     "output_type": "display_data"
    }
   ],
   "source": [
    "length(X.predict[X.predict == 1,])"
   ]
  },
  {
   "cell_type": "code",
   "execution_count": 319,
   "metadata": {},
   "outputs": [
    {
     "data": {
      "text/html": [
       "60"
      ],
      "text/latex": [
       "60"
      ],
      "text/markdown": [
       "60"
      ],
      "text/plain": [
       "[1] 60"
      ]
     },
     "metadata": {},
     "output_type": "display_data"
    }
   ],
   "source": [
    "length(X.predict[X.predict == 2,])"
   ]
  },
  {
   "cell_type": "markdown",
   "metadata": {},
   "source": [
    "### Confusion table"
   ]
  },
  {
   "cell_type": "code",
   "execution_count": 320,
   "metadata": {},
   "outputs": [],
   "source": [
    "get_conf_table <- function(data.predicted, deta.real) {\n",
    "    conf_table.test <- data.frame(matrix(0, 2, 2))\n",
    "    colnames(conf_table.test) <- c(\"1_pred\", \"2_pred\")\n",
    "    rownames(conf_table.test) <- c(\"1_real\", \"2_real\")\n",
    "    \n",
    "    for (i in 1:2) {\n",
    "        for (j in 1:2) {\n",
    "            conf_table.test[i, j] <- sum(data.predicted[which(deta.real == i),] == j)\n",
    "        }\n",
    "    }\n",
    "    \n",
    "    return(conf_table.test)\n",
    "    \n",
    "}"
   ]
  },
  {
   "cell_type": "code",
   "execution_count": 321,
   "metadata": {},
   "outputs": [
    {
     "data": {
      "text/html": [
       "<table>\n",
       "<caption>A data.frame: 2 × 2</caption>\n",
       "<thead>\n",
       "\t<tr><th></th><th scope=col>1_pred</th><th scope=col>2_pred</th></tr>\n",
       "\t<tr><th></th><th scope=col>&lt;dbl&gt;</th><th scope=col>&lt;dbl&gt;</th></tr>\n",
       "</thead>\n",
       "<tbody>\n",
       "\t<tr><th scope=row>1_real</th><td>40</td><td> 0</td></tr>\n",
       "\t<tr><th scope=row>2_real</th><td> 0</td><td>60</td></tr>\n",
       "</tbody>\n",
       "</table>\n"
      ],
      "text/latex": [
       "A data.frame: 2 × 2\n",
       "\\begin{tabular}{r|ll}\n",
       "  & 1\\_pred & 2\\_pred\\\\\n",
       "  & <dbl> & <dbl>\\\\\n",
       "\\hline\n",
       "\t1\\_real & 40 &  0\\\\\n",
       "\t2\\_real &  0 & 60\\\\\n",
       "\\end{tabular}\n"
      ],
      "text/markdown": [
       "\n",
       "A data.frame: 2 × 2\n",
       "\n",
       "| <!--/--> | 1_pred &lt;dbl&gt; | 2_pred &lt;dbl&gt; |\n",
       "|---|---|---|\n",
       "| 1_real | 40 |  0 |\n",
       "| 2_real |  0 | 60 |\n",
       "\n"
      ],
      "text/plain": [
       "       1_pred 2_pred\n",
       "1_real 40      0    \n",
       "2_real  0     60    "
      ]
     },
     "metadata": {},
     "output_type": "display_data"
    }
   ],
   "source": [
    "get_conf_table(X.predict, X.test$class)"
   ]
  },
  {
   "cell_type": "code",
   "execution_count": 322,
   "metadata": {},
   "outputs": [
    {
     "data": {
      "text/html": [
       "<table>\n",
       "<caption>A data.frame: 2 × 2</caption>\n",
       "<thead>\n",
       "\t<tr><th></th><th scope=col>1_pred</th><th scope=col>2_pred</th></tr>\n",
       "\t<tr><th></th><th scope=col>&lt;dbl&gt;</th><th scope=col>&lt;dbl&gt;</th></tr>\n",
       "</thead>\n",
       "<tbody>\n",
       "\t<tr><th scope=row>1_real</th><td>200</td><td>0</td></tr>\n",
       "\t<tr><th scope=row>2_real</th><td>  0</td><td>0</td></tr>\n",
       "</tbody>\n",
       "</table>\n"
      ],
      "text/latex": [
       "A data.frame: 2 × 2\n",
       "\\begin{tabular}{r|ll}\n",
       "  & 1\\_pred & 2\\_pred\\\\\n",
       "  & <dbl> & <dbl>\\\\\n",
       "\\hline\n",
       "\t1\\_real & 200 & 0\\\\\n",
       "\t2\\_real &   0 & 0\\\\\n",
       "\\end{tabular}\n"
      ],
      "text/markdown": [
       "\n",
       "A data.frame: 2 × 2\n",
       "\n",
       "| <!--/--> | 1_pred &lt;dbl&gt; | 2_pred &lt;dbl&gt; |\n",
       "|---|---|---|\n",
       "| 1_real | 200 | 0 |\n",
       "| 2_real |   0 | 0 |\n",
       "\n"
      ],
      "text/plain": [
       "       1_pred 2_pred\n",
       "1_real 200    0     \n",
       "2_real   0    0     "
      ]
     },
     "metadata": {},
     "output_type": "display_data"
    }
   ],
   "source": [
    "X.W1.predict <- predict_class(alpha, c, X.W1[,-4], q1, q2, xi1, xi2)\n",
    "get_conf_table(X.W1.predict, X.W1$class)"
   ]
  },
  {
   "cell_type": "code",
   "execution_count": 323,
   "metadata": {},
   "outputs": [
    {
     "data": {
      "text/html": [
       "<table>\n",
       "<caption>A data.frame: 2 × 2</caption>\n",
       "<thead>\n",
       "\t<tr><th></th><th scope=col>1_pred</th><th scope=col>2_pred</th></tr>\n",
       "\t<tr><th></th><th scope=col>&lt;dbl&gt;</th><th scope=col>&lt;dbl&gt;</th></tr>\n",
       "</thead>\n",
       "<tbody>\n",
       "\t<tr><th scope=row>1_real</th><td>0</td><td>  0</td></tr>\n",
       "\t<tr><th scope=row>2_real</th><td>0</td><td>300</td></tr>\n",
       "</tbody>\n",
       "</table>\n"
      ],
      "text/latex": [
       "A data.frame: 2 × 2\n",
       "\\begin{tabular}{r|ll}\n",
       "  & 1\\_pred & 2\\_pred\\\\\n",
       "  & <dbl> & <dbl>\\\\\n",
       "\\hline\n",
       "\t1\\_real & 0 &   0\\\\\n",
       "\t2\\_real & 0 & 300\\\\\n",
       "\\end{tabular}\n"
      ],
      "text/markdown": [
       "\n",
       "A data.frame: 2 × 2\n",
       "\n",
       "| <!--/--> | 1_pred &lt;dbl&gt; | 2_pred &lt;dbl&gt; |\n",
       "|---|---|---|\n",
       "| 1_real | 0 |   0 |\n",
       "| 2_real | 0 | 300 |\n",
       "\n"
      ],
      "text/plain": [
       "       1_pred 2_pred\n",
       "1_real 0        0   \n",
       "2_real 0      300   "
      ]
     },
     "metadata": {},
     "output_type": "display_data"
    }
   ],
   "source": [
    "X.W2.predict <- predict_class(alpha, c, X.W2[,-4], q1, q2, xi1, xi2)\n",
    "get_conf_table(X.W2.predict, X.W2$class)"
   ]
  },
  {
   "cell_type": "markdown",
   "metadata": {},
   "source": [
    "## Badly separable data"
   ]
  },
  {
   "cell_type": "code",
   "execution_count": 324,
   "metadata": {},
   "outputs": [
    {
     "data": {
      "text/html": [
       "<table>\n",
       "<caption>A matrix: 3 × 3 of type dbl</caption>\n",
       "<tbody>\n",
       "\t<tr><td> 0.47568568</td><td> 0.03056266</td><td>-0.5570420</td></tr>\n",
       "\t<tr><td> 0.03056266</td><td> 1.94565722</td><td>-0.5415347</td></tr>\n",
       "\t<tr><td>-0.55704198</td><td>-0.54153473</td><td> 0.8044463</td></tr>\n",
       "</tbody>\n",
       "</table>\n"
      ],
      "text/latex": [
       "A matrix: 3 × 3 of type dbl\n",
       "\\begin{tabular}{lll}\n",
       "\t  0.47568568 &  0.03056266 & -0.5570420\\\\\n",
       "\t  0.03056266 &  1.94565722 & -0.5415347\\\\\n",
       "\t -0.55704198 & -0.54153473 &  0.8044463\\\\\n",
       "\\end{tabular}\n"
      ],
      "text/markdown": [
       "\n",
       "A matrix: 3 × 3 of type dbl\n",
       "\n",
       "|  0.47568568 |  0.03056266 | -0.5570420 |\n",
       "|  0.03056266 |  1.94565722 | -0.5415347 |\n",
       "| -0.55704198 | -0.54153473 |  0.8044463 |\n",
       "\n"
      ],
      "text/plain": [
       "     [,1]        [,2]        [,3]      \n",
       "[1,]  0.47568568  0.03056266 -0.5570420\n",
       "[2,]  0.03056266  1.94565722 -0.5415347\n",
       "[3,] -0.55704198 -0.54153473  0.8044463"
      ]
     },
     "metadata": {},
     "output_type": "display_data"
    }
   ],
   "source": [
    "Sigma.W1.bad <- get_covariance_matrix(p)\n",
    "Sigma.W2.bad <- Sigma.W1.bad\n",
    "Sigma.W1.bad"
   ]
  },
  {
   "cell_type": "code",
   "execution_count": 339,
   "metadata": {},
   "outputs": [
    {
     "data": {
      "text/html": [
       "<ol class=list-inline>\n",
       "\t<li>1.53847505208105</li>\n",
       "\t<li>1.56696825381368</li>\n",
       "\t<li>1.36436139307916</li>\n",
       "</ol>\n"
      ],
      "text/latex": [
       "\\begin{enumerate*}\n",
       "\\item 1.53847505208105\n",
       "\\item 1.56696825381368\n",
       "\\item 1.36436139307916\n",
       "\\end{enumerate*}\n"
      ],
      "text/markdown": [
       "1. 1.53847505208105\n",
       "2. 1.56696825381368\n",
       "3. 1.36436139307916\n",
       "\n",
       "\n"
      ],
      "text/plain": [
       "[1] 1.538475 1.566968 1.364361"
      ]
     },
     "metadata": {},
     "output_type": "display_data"
    },
    {
     "data": {
      "text/html": [
       "<ol class=list-inline>\n",
       "\t<li>1.36543073877692</li>\n",
       "\t<li>1.17065552040003</li>\n",
       "\t<li>1.24536575400271</li>\n",
       "</ol>\n"
      ],
      "text/latex": [
       "\\begin{enumerate*}\n",
       "\\item 1.36543073877692\n",
       "\\item 1.17065552040003\n",
       "\\item 1.24536575400271\n",
       "\\end{enumerate*}\n"
      ],
      "text/markdown": [
       "1. 1.36543073877692\n",
       "2. 1.17065552040003\n",
       "3. 1.24536575400271\n",
       "\n",
       "\n"
      ],
      "text/plain": [
       "[1] 1.365431 1.170656 1.245366"
      ]
     },
     "metadata": {},
     "output_type": "display_data"
    }
   ],
   "source": [
    "mu.W1.bad <- get_means_vector(p, 1, 1.8)\n",
    "mu.W2.bad <- get_means_vector(p, 1, 1.5)\n",
    "mu.W1.bad\n",
    "mu.W2.bad"
   ]
  },
  {
   "cell_type": "code",
   "execution_count": 340,
   "metadata": {},
   "outputs": [
    {
     "data": {
      "text/html": [
       "<table>\n",
       "<caption>A data.frame: 5 × 4</caption>\n",
       "<thead>\n",
       "\t<tr><th></th><th scope=col>X1</th><th scope=col>X2</th><th scope=col>X3</th><th scope=col>class</th></tr>\n",
       "\t<tr><th></th><th scope=col>&lt;dbl&gt;</th><th scope=col>&lt;dbl&gt;</th><th scope=col>&lt;dbl&gt;</th><th scope=col>&lt;dbl&gt;</th></tr>\n",
       "</thead>\n",
       "<tbody>\n",
       "\t<tr><th scope=row>88</th><td>2.8694964</td><td> 2.864340</td><td>-1.036206</td><td>2</td></tr>\n",
       "\t<tr><th scope=row>51</th><td>0.9049486</td><td> 1.218381</td><td> 1.735854</td><td>2</td></tr>\n",
       "\t<tr><th scope=row>70</th><td>1.7626245</td><td>-1.844569</td><td> 1.582391</td><td>2</td></tr>\n",
       "\t<tr><th scope=row>26</th><td>1.4149811</td><td> 1.768614</td><td> 1.765334</td><td>1</td></tr>\n",
       "\t<tr><th scope=row>45</th><td>1.6255438</td><td> 2.109315</td><td> 0.531306</td><td>2</td></tr>\n",
       "</tbody>\n",
       "</table>\n"
      ],
      "text/latex": [
       "A data.frame: 5 × 4\n",
       "\\begin{tabular}{r|llll}\n",
       "  & X1 & X2 & X3 & class\\\\\n",
       "  & <dbl> & <dbl> & <dbl> & <dbl>\\\\\n",
       "\\hline\n",
       "\t88 & 2.8694964 &  2.864340 & -1.036206 & 2\\\\\n",
       "\t51 & 0.9049486 &  1.218381 &  1.735854 & 2\\\\\n",
       "\t70 & 1.7626245 & -1.844569 &  1.582391 & 2\\\\\n",
       "\t26 & 1.4149811 &  1.768614 &  1.765334 & 1\\\\\n",
       "\t45 & 1.6255438 &  2.109315 &  0.531306 & 2\\\\\n",
       "\\end{tabular}\n"
      ],
      "text/markdown": [
       "\n",
       "A data.frame: 5 × 4\n",
       "\n",
       "| <!--/--> | X1 &lt;dbl&gt; | X2 &lt;dbl&gt; | X3 &lt;dbl&gt; | class &lt;dbl&gt; |\n",
       "|---|---|---|---|---|\n",
       "| 88 | 2.8694964 |  2.864340 | -1.036206 | 2 |\n",
       "| 51 | 0.9049486 |  1.218381 |  1.735854 | 2 |\n",
       "| 70 | 1.7626245 | -1.844569 |  1.582391 | 2 |\n",
       "| 26 | 1.4149811 |  1.768614 |  1.765334 | 1 |\n",
       "| 45 | 1.6255438 |  2.109315 |  0.531306 | 2 |\n",
       "\n"
      ],
      "text/plain": [
       "   X1        X2        X3        class\n",
       "88 2.8694964  2.864340 -1.036206 2    \n",
       "51 0.9049486  1.218381  1.735854 2    \n",
       "70 1.7626245 -1.844569  1.582391 2    \n",
       "26 1.4149811  1.768614  1.765334 1    \n",
       "45 1.6255438  2.109315  0.531306 2    "
      ]
     },
     "metadata": {},
     "output_type": "display_data"
    }
   ],
   "source": [
    "X.W1.bad <- data.frame(rmvnorm(n.W1, mu.W1.bad, Sigma.W1.bad), \n",
    "                       class = matrix(1, n.W1, 1))\n",
    "X.W2.bad <- data.frame(rmvnorm(n.W2, mu.W2.bad, Sigma.W2.bad), \n",
    "                       class = matrix(2, n.W2, 1))\n",
    "\n",
    "X.test.bad <- rbind(data.frame(rmvnorm(as.integer(q1 * n.test), mu.W1.bad, Sigma.W1.bad), \n",
    "                           class = matrix(1, as.integer(q1 * n.test), 1)),\n",
    "                    data.frame(rmvnorm(as.integer(q2 * n.test), mu.W2.bad, Sigma.W2.bad), \n",
    "                           class = matrix(2, as.integer(q2 * n.test), 1)))\n",
    "\n",
    "X.test.bad <- X.test.bad[sample(nrow(X.test.bad)), ]\n",
    "X.test.bad[0:5, ]"
   ]
  },
  {
   "cell_type": "code",
   "execution_count": 341,
   "metadata": {},
   "outputs": [
    {
     "data": {
      "text/html": [
       "<table>\n",
       "<caption>A matrix: 3 × 1 of type dbl</caption>\n",
       "<tbody>\n",
       "\t<tr><td>24.059076</td></tr>\n",
       "\t<tr><td> 5.542295</td></tr>\n",
       "\t<tr><td>20.538669</td></tr>\n",
       "</tbody>\n",
       "</table>\n"
      ],
      "text/latex": [
       "A matrix: 3 × 1 of type dbl\n",
       "\\begin{tabular}{l}\n",
       "\t 24.059076\\\\\n",
       "\t  5.542295\\\\\n",
       "\t 20.538669\\\\\n",
       "\\end{tabular}\n"
      ],
      "text/markdown": [
       "\n",
       "A matrix: 3 × 1 of type dbl\n",
       "\n",
       "| 24.059076 |\n",
       "|  5.542295 |\n",
       "| 20.538669 |\n",
       "\n"
      ],
      "text/plain": [
       "     [,1]     \n",
       "[1,] 24.059076\n",
       "[2,]  5.542295\n",
       "[3,] 20.538669"
      ]
     },
     "metadata": {},
     "output_type": "display_data"
    }
   ],
   "source": [
    "alpha.bad <- inv(Sigma.W1.bad) %*% (mu.W1.bad - mu.W2.bad)\n",
    "alpha.bad"
   ]
  },
  {
   "cell_type": "code",
   "execution_count": 342,
   "metadata": {},
   "outputs": [
    {
     "data": {
      "text/html": [
       "69.3191652443682"
      ],
      "text/latex": [
       "69.3191652443682"
      ],
      "text/markdown": [
       "69.3191652443682"
      ],
      "text/plain": [
       "[1] 69.31917"
      ]
     },
     "metadata": {},
     "output_type": "display_data"
    }
   ],
   "source": [
    "xi1.bad <- sum(alpha.bad * mu.W1.bad)\n",
    "xi2.bad <- sum(alpha.bad * mu.W2.bad)\n",
    "\n",
    "c.bad <- (xi1.bad + xi2.bad) / 2\n",
    "c.bad"
   ]
  },
  {
   "cell_type": "code",
   "execution_count": 343,
   "metadata": {},
   "outputs": [
    {
     "data": {
      "text/html": [
       "8.8037803641854"
      ],
      "text/latex": [
       "8.8037803641854"
      ],
      "text/markdown": [
       "8.8037803641854"
      ],
      "text/plain": [
       "[1] 8.80378"
      ]
     },
     "metadata": {},
     "output_type": "display_data"
    }
   ],
   "source": [
    "sigma_z.squared.bad <- get_sigma_z_squared(alpha.bad, Sigma.W1.bad, p)\n",
    "sigma_z.squared.bad"
   ]
  },
  {
   "cell_type": "code",
   "execution_count": 344,
   "metadata": {},
   "outputs": [
    {
     "data": {
      "text/html": [
       "8.80378036184999"
      ],
      "text/latex": [
       "8.80378036184999"
      ],
      "text/markdown": [
       "8.80378036184999"
      ],
      "text/plain": [
       "[1] 8.80378"
      ]
     },
     "metadata": {},
     "output_type": "display_data"
    }
   ],
   "source": [
    "dist.mhl.bad <- (xi1.bad - xi2.bad)^2 / sigma_z.squared.bad\n",
    "dist.mhl.bad"
   ]
  },
  {
   "cell_type": "code",
   "execution_count": 345,
   "metadata": {},
   "outputs": [],
   "source": [
    "X.predict.bad <- predict_class(alpha.bad, c.bad, \n",
    "                               X.test.bad[,-4], \n",
    "                               q1, q2, \n",
    "                               xi1.bad, xi2.bad)"
   ]
  },
  {
   "cell_type": "code",
   "execution_count": 346,
   "metadata": {},
   "outputs": [
    {
     "data": {
      "text/html": [
       "<table>\n",
       "<caption>A data.frame: 2 × 2</caption>\n",
       "<thead>\n",
       "\t<tr><th></th><th scope=col>1_pred</th><th scope=col>2_pred</th></tr>\n",
       "\t<tr><th></th><th scope=col>&lt;dbl&gt;</th><th scope=col>&lt;dbl&gt;</th></tr>\n",
       "</thead>\n",
       "<tbody>\n",
       "\t<tr><th scope=row>1_real</th><td>38</td><td> 2</td></tr>\n",
       "\t<tr><th scope=row>2_real</th><td> 2</td><td>58</td></tr>\n",
       "</tbody>\n",
       "</table>\n"
      ],
      "text/latex": [
       "A data.frame: 2 × 2\n",
       "\\begin{tabular}{r|ll}\n",
       "  & 1\\_pred & 2\\_pred\\\\\n",
       "  & <dbl> & <dbl>\\\\\n",
       "\\hline\n",
       "\t1\\_real & 38 &  2\\\\\n",
       "\t2\\_real &  2 & 58\\\\\n",
       "\\end{tabular}\n"
      ],
      "text/markdown": [
       "\n",
       "A data.frame: 2 × 2\n",
       "\n",
       "| <!--/--> | 1_pred &lt;dbl&gt; | 2_pred &lt;dbl&gt; |\n",
       "|---|---|---|\n",
       "| 1_real | 38 |  2 |\n",
       "| 2_real |  2 | 58 |\n",
       "\n"
      ],
      "text/plain": [
       "       1_pred 2_pred\n",
       "1_real 38      2    \n",
       "2_real  2     58    "
      ]
     },
     "metadata": {},
     "output_type": "display_data"
    }
   ],
   "source": [
    "get_conf_table(X.predict.bad, X.test.bad$class)"
   ]
  },
  {
   "cell_type": "code",
   "execution_count": 347,
   "metadata": {},
   "outputs": [
    {
     "data": {
      "text/html": [
       "<table>\n",
       "<caption>A data.frame: 2 × 2</caption>\n",
       "<thead>\n",
       "\t<tr><th></th><th scope=col>1_pred</th><th scope=col>2_pred</th></tr>\n",
       "\t<tr><th></th><th scope=col>&lt;dbl&gt;</th><th scope=col>&lt;dbl&gt;</th></tr>\n",
       "</thead>\n",
       "<tbody>\n",
       "\t<tr><th scope=row>1_real</th><td>180</td><td>20</td></tr>\n",
       "\t<tr><th scope=row>2_real</th><td>  0</td><td> 0</td></tr>\n",
       "</tbody>\n",
       "</table>\n"
      ],
      "text/latex": [
       "A data.frame: 2 × 2\n",
       "\\begin{tabular}{r|ll}\n",
       "  & 1\\_pred & 2\\_pred\\\\\n",
       "  & <dbl> & <dbl>\\\\\n",
       "\\hline\n",
       "\t1\\_real & 180 & 20\\\\\n",
       "\t2\\_real &   0 &  0\\\\\n",
       "\\end{tabular}\n"
      ],
      "text/markdown": [
       "\n",
       "A data.frame: 2 × 2\n",
       "\n",
       "| <!--/--> | 1_pred &lt;dbl&gt; | 2_pred &lt;dbl&gt; |\n",
       "|---|---|---|\n",
       "| 1_real | 180 | 20 |\n",
       "| 2_real |   0 |  0 |\n",
       "\n"
      ],
      "text/plain": [
       "       1_pred 2_pred\n",
       "1_real 180    20    \n",
       "2_real   0     0    "
      ]
     },
     "metadata": {},
     "output_type": "display_data"
    }
   ],
   "source": [
    "X.W1.predict.bad <- predict_class(alpha.bad, c.bad, X.W1.bad[,-4], \n",
    "                                  q1, q2, xi1.bad, xi2.bad)\n",
    "get_conf_table(X.W1.predict.bad, X.W1.bad$class)"
   ]
  },
  {
   "cell_type": "code",
   "execution_count": 348,
   "metadata": {},
   "outputs": [
    {
     "data": {
      "text/html": [
       "<table>\n",
       "<caption>A data.frame: 2 × 2</caption>\n",
       "<thead>\n",
       "\t<tr><th></th><th scope=col>1_pred</th><th scope=col>2_pred</th></tr>\n",
       "\t<tr><th></th><th scope=col>&lt;dbl&gt;</th><th scope=col>&lt;dbl&gt;</th></tr>\n",
       "</thead>\n",
       "<tbody>\n",
       "\t<tr><th scope=row>1_real</th><td> 0</td><td>  0</td></tr>\n",
       "\t<tr><th scope=row>2_real</th><td>19</td><td>281</td></tr>\n",
       "</tbody>\n",
       "</table>\n"
      ],
      "text/latex": [
       "A data.frame: 2 × 2\n",
       "\\begin{tabular}{r|ll}\n",
       "  & 1\\_pred & 2\\_pred\\\\\n",
       "  & <dbl> & <dbl>\\\\\n",
       "\\hline\n",
       "\t1\\_real &  0 &   0\\\\\n",
       "\t2\\_real & 19 & 281\\\\\n",
       "\\end{tabular}\n"
      ],
      "text/markdown": [
       "\n",
       "A data.frame: 2 × 2\n",
       "\n",
       "| <!--/--> | 1_pred &lt;dbl&gt; | 2_pred &lt;dbl&gt; |\n",
       "|---|---|---|\n",
       "| 1_real |  0 |   0 |\n",
       "| 2_real | 19 | 281 |\n",
       "\n"
      ],
      "text/plain": [
       "       1_pred 2_pred\n",
       "1_real  0       0   \n",
       "2_real 19     281   "
      ]
     },
     "metadata": {},
     "output_type": "display_data"
    }
   ],
   "source": [
    "X.W2.predict.bad <- predict_class(alpha.bad, c.bad, X.W2.bad[,-4], \n",
    "                                  q1, q2, xi1.bad, xi2.bad)\n",
    "get_conf_table(X.W2.predict.bad, X.W2.bad$class)"
   ]
  },
  {
   "cell_type": "markdown",
   "metadata": {},
   "source": [
    "### A'posteriori probabilities"
   ]
  },
  {
   "cell_type": "markdown",
   "metadata": {},
   "source": [
    "##### Well separable data"
   ]
  },
  {
   "cell_type": "code",
   "execution_count": 335,
   "metadata": {},
   "outputs": [
    {
     "data": {
      "text/html": [
       "0"
      ],
      "text/latex": [
       "0"
      ],
      "text/markdown": [
       "0"
      ],
      "text/plain": [
       "[1] 0"
      ]
     },
     "metadata": {},
     "output_type": "display_data"
    }
   ],
   "source": [
    "K <- log(q2 / q1)\n",
    "p_2_1 <- pnorm((K - 0.5 * dist.mhl) / sqrt(dist.mhl))\n",
    "p_2_1"
   ]
  },
  {
   "cell_type": "code",
   "execution_count": 336,
   "metadata": {},
   "outputs": [
    {
     "data": {
      "text/html": [
       "0"
      ],
      "text/latex": [
       "0"
      ],
      "text/markdown": [
       "0"
      ],
      "text/plain": [
       "[1] 0"
      ]
     },
     "metadata": {},
     "output_type": "display_data"
    }
   ],
   "source": [
    "p_1_2 <- pnorm((-K - 0.5 * dist.mhl) / sqrt(dist.mhl))\n",
    "p_1_2"
   ]
  },
  {
   "cell_type": "markdown",
   "metadata": {},
   "source": [
    "##### Badly separable data"
   ]
  },
  {
   "cell_type": "code",
   "execution_count": 337,
   "metadata": {},
   "outputs": [
    {
     "data": {
      "text/html": [
       "0.0273473999922834"
      ],
      "text/latex": [
       "0.0273473999922834"
      ],
      "text/markdown": [
       "0.0273473999922834"
      ],
      "text/plain": [
       "[1] 0.0273474"
      ]
     },
     "metadata": {},
     "output_type": "display_data"
    }
   ],
   "source": [
    "p_2_1.bad <- pnorm((K - 0.5 * dist.mhl.bad) / sqrt(dist.mhl.bad))\n",
    "p_2_1.bad"
   ]
  },
  {
   "cell_type": "code",
   "execution_count": 338,
   "metadata": {},
   "outputs": [
    {
     "data": {
      "text/html": [
       "0.0169246837023691"
      ],
      "text/latex": [
       "0.0169246837023691"
      ],
      "text/markdown": [
       "0.0169246837023691"
      ],
      "text/plain": [
       "[1] 0.01692468"
      ]
     },
     "metadata": {},
     "output_type": "display_data"
    }
   ],
   "source": [
    "p_1_2.bad <- pnorm((-K - 0.5 * dist.mhl.bad) / sqrt(dist.mhl.bad))\n",
    "p_1_2.bad"
   ]
  },
  {
   "cell_type": "markdown",
   "metadata": {},
   "source": [
    "## Real data\n",
    "https://archive.ics.uci.edu/ml/machine-learning-databases/statlog/german/"
   ]
  },
  {
   "cell_type": "code",
   "execution_count": 149,
   "metadata": {},
   "outputs": [
    {
     "data": {
      "text/html": [
       "<table>\n",
       "<caption>A data.frame: 5 × 25</caption>\n",
       "<thead>\n",
       "\t<tr><th scope=col>V1</th><th scope=col>V2</th><th scope=col>V3</th><th scope=col>V4</th><th scope=col>V5</th><th scope=col>V6</th><th scope=col>V7</th><th scope=col>V8</th><th scope=col>V9</th><th scope=col>V10</th><th scope=col>⋯</th><th scope=col>V16</th><th scope=col>V17</th><th scope=col>V18</th><th scope=col>V19</th><th scope=col>V20</th><th scope=col>V21</th><th scope=col>V22</th><th scope=col>V23</th><th scope=col>V24</th><th scope=col>class</th></tr>\n",
       "\t<tr><th scope=col>&lt;dbl&gt;</th><th scope=col>&lt;dbl&gt;</th><th scope=col>&lt;dbl&gt;</th><th scope=col>&lt;dbl&gt;</th><th scope=col>&lt;dbl&gt;</th><th scope=col>&lt;dbl&gt;</th><th scope=col>&lt;dbl&gt;</th><th scope=col>&lt;dbl&gt;</th><th scope=col>&lt;dbl&gt;</th><th scope=col>&lt;dbl&gt;</th><th scope=col>⋯</th><th scope=col>&lt;dbl&gt;</th><th scope=col>&lt;dbl&gt;</th><th scope=col>&lt;dbl&gt;</th><th scope=col>&lt;dbl&gt;</th><th scope=col>&lt;dbl&gt;</th><th scope=col>&lt;dbl&gt;</th><th scope=col>&lt;dbl&gt;</th><th scope=col>&lt;dbl&gt;</th><th scope=col>&lt;dbl&gt;</th><th scope=col>&lt;int&gt;</th></tr>\n",
       "</thead>\n",
       "<tbody>\n",
       "\t<tr><td>-1.2539382</td><td>-1.2358595</td><td> 1.3433419</td><td>-0.7330651</td><td> 1.8322523</td><td> 1.3374093</td><td> 0.4491018</td><td> 1.0464631</td><td>-1.2930760</td><td> 2.7650729</td><td>⋯</td><td>-0.5524288</td><td>-0.3386922</td><td> 0.320052</td><td>-0.2066643</td><td>-0.4666999</td><td> 0.6341309</td><td>-0.1499079</td><td>-0.4997499</td><td> 0.7659728</td><td>1</td></tr>\n",
       "\t<tr><td>-0.4587967</td><td> 2.2470700</td><td>-0.5031762</td><td> 0.9658932</td><td>-0.6993571</td><td>-0.3178002</td><td>-0.9631679</td><td>-0.7655942</td><td>-1.2930760</td><td>-1.1908081</td><td>⋯</td><td>-0.5524288</td><td>-0.3386922</td><td> 0.320052</td><td>-0.2066643</td><td>-0.4666999</td><td> 0.6341309</td><td>-0.1499079</td><td>-0.4997499</td><td> 0.7659728</td><td>2</td></tr>\n",
       "\t<tr><td> 1.1314864</td><td>-0.7382981</td><td> 1.3433419</td><td>-0.4145104</td><td>-0.6993571</td><td> 0.5098045</td><td> 0.4491018</td><td> 0.1404344</td><td>-1.2930760</td><td> 1.1827205</td><td>⋯</td><td>-0.5524288</td><td>-0.3386922</td><td> 0.320052</td><td>-0.2066643</td><td>-0.4666999</td><td> 0.6341309</td><td>-0.1499079</td><td> 1.9989997</td><td>-1.3042239</td><td>1</td></tr>\n",
       "\t<tr><td>-1.2539382</td><td> 1.7495086</td><td>-0.5031762</td><td> 1.6383976</td><td>-0.6993571</td><td> 0.5098045</td><td> 0.4491018</td><td> 1.0464631</td><td>-0.3408845</td><td> 0.8310866</td><td>⋯</td><td>-0.5524288</td><td>-0.3386922</td><td>-3.121368</td><td>-0.2066643</td><td>-0.4666999</td><td>-1.5753845</td><td>-0.1499079</td><td>-0.4997499</td><td> 0.7659728</td><td>1</td></tr>\n",
       "\t<tr><td>-1.2539382</td><td> 0.2568246</td><td> 0.4200829</td><td> 0.5765486</td><td>-0.6993571</td><td>-0.3178002</td><td> 0.4491018</td><td> 1.0464631</td><td> 1.5634983</td><td> 1.5343544</td><td>⋯</td><td> 1.8083779</td><td>-0.3386922</td><td> 0.320052</td><td>-0.2066643</td><td>-0.4666999</td><td>-1.5753845</td><td>-0.1499079</td><td>-0.4997499</td><td> 0.7659728</td><td>2</td></tr>\n",
       "</tbody>\n",
       "</table>\n"
      ],
      "text/latex": [
       "A data.frame: 5 × 25\n",
       "\\begin{tabular}{r|lllllllllllllllllllllllll}\n",
       " V1 & V2 & V3 & V4 & V5 & V6 & V7 & V8 & V9 & V10 & V11 & V12 & V13 & V14 & V15 & V16 & V17 & V18 & V19 & V20 & V21 & V22 & V23 & V24 & class\\\\\n",
       " <dbl> & <dbl> & <dbl> & <dbl> & <dbl> & <dbl> & <dbl> & <dbl> & <dbl> & <dbl> & <dbl> & <dbl> & <dbl> & <dbl> & <dbl> & <dbl> & <dbl> & <dbl> & <dbl> & <dbl> & <dbl> & <dbl> & <dbl> & <dbl> & <int>\\\\\n",
       "\\hline\n",
       "\t -1.2539382 & -1.2358595 &  1.3433419 & -0.7330651 &  1.8322523 &  1.3374093 &  0.4491018 &  1.0464631 & -1.2930760 &  2.7650729 & 0.4606002 &  1.0265652 & -0.4280754 &  1.2139902 & -0.1959163 & -0.5524288 & -0.3386922 &  0.320052 & -0.2066643 & -0.4666999 &  0.6341309 & -0.1499079 & -0.4997499 &  0.7659728 & 1\\\\\n",
       "\t -0.4587967 &  2.2470700 & -0.5031762 &  0.9658932 & -0.6993571 & -0.3178002 & -0.9631679 & -0.7655942 & -1.2930760 & -1.1908081 & 0.4606002 & -0.7045734 & -0.4280754 & -0.8229061 & -0.1959163 & -0.5524288 & -0.3386922 &  0.320052 & -0.2066643 & -0.4666999 &  0.6341309 & -0.1499079 & -0.4997499 &  0.7659728 & 2\\\\\n",
       "\t  1.1314864 & -0.7382981 &  1.3433419 & -0.4145104 & -0.6993571 &  0.5098045 &  0.4491018 &  0.1404344 & -1.2930760 &  1.1827205 & 0.4606002 & -0.7045734 &  2.3337012 & -0.8229061 & -0.1959163 & -0.5524288 & -0.3386922 &  0.320052 & -0.2066643 & -0.4666999 &  0.6341309 & -0.1499079 &  1.9989997 & -1.3042239 & 1\\\\\n",
       "\t -1.2539382 &  1.7495086 & -0.5031762 &  1.6383976 & -0.6993571 &  0.5098045 &  0.4491018 &  1.0464631 & -0.3408845 &  0.8310866 & 0.4606002 & -0.7045734 &  2.3337012 & -0.8229061 & -0.1959163 & -0.5524288 & -0.3386922 & -3.121368 & -0.2066643 & -0.4666999 & -1.5753845 & -0.1499079 & -0.4997499 &  0.7659728 & 1\\\\\n",
       "\t -1.2539382 &  0.2568246 &  0.4200829 &  0.5765486 & -0.6993571 & -0.3178002 &  0.4491018 &  1.0464631 &  1.5634983 &  1.5343544 & 0.4606002 &  1.0265652 &  2.3337012 & -0.8229061 & -0.1959163 &  1.8083779 & -0.3386922 &  0.320052 & -0.2066643 & -0.4666999 & -1.5753845 & -0.1499079 & -0.4997499 &  0.7659728 & 2\\\\\n",
       "\\end{tabular}\n"
      ],
      "text/markdown": [
       "\n",
       "A data.frame: 5 × 25\n",
       "\n",
       "| V1 &lt;dbl&gt; | V2 &lt;dbl&gt; | V3 &lt;dbl&gt; | V4 &lt;dbl&gt; | V5 &lt;dbl&gt; | V6 &lt;dbl&gt; | V7 &lt;dbl&gt; | V8 &lt;dbl&gt; | V9 &lt;dbl&gt; | V10 &lt;dbl&gt; | ⋯ ⋯ | V16 &lt;dbl&gt; | V17 &lt;dbl&gt; | V18 &lt;dbl&gt; | V19 &lt;dbl&gt; | V20 &lt;dbl&gt; | V21 &lt;dbl&gt; | V22 &lt;dbl&gt; | V23 &lt;dbl&gt; | V24 &lt;dbl&gt; | class &lt;int&gt; |\n",
       "|---|---|---|---|---|---|---|---|---|---|---|---|---|---|---|---|---|---|---|---|---|\n",
       "| -1.2539382 | -1.2358595 |  1.3433419 | -0.7330651 |  1.8322523 |  1.3374093 |  0.4491018 |  1.0464631 | -1.2930760 |  2.7650729 | ⋯ | -0.5524288 | -0.3386922 |  0.320052 | -0.2066643 | -0.4666999 |  0.6341309 | -0.1499079 | -0.4997499 |  0.7659728 | 1 |\n",
       "| -0.4587967 |  2.2470700 | -0.5031762 |  0.9658932 | -0.6993571 | -0.3178002 | -0.9631679 | -0.7655942 | -1.2930760 | -1.1908081 | ⋯ | -0.5524288 | -0.3386922 |  0.320052 | -0.2066643 | -0.4666999 |  0.6341309 | -0.1499079 | -0.4997499 |  0.7659728 | 2 |\n",
       "|  1.1314864 | -0.7382981 |  1.3433419 | -0.4145104 | -0.6993571 |  0.5098045 |  0.4491018 |  0.1404344 | -1.2930760 |  1.1827205 | ⋯ | -0.5524288 | -0.3386922 |  0.320052 | -0.2066643 | -0.4666999 |  0.6341309 | -0.1499079 |  1.9989997 | -1.3042239 | 1 |\n",
       "| -1.2539382 |  1.7495086 | -0.5031762 |  1.6383976 | -0.6993571 |  0.5098045 |  0.4491018 |  1.0464631 | -0.3408845 |  0.8310866 | ⋯ | -0.5524288 | -0.3386922 | -3.121368 | -0.2066643 | -0.4666999 | -1.5753845 | -0.1499079 | -0.4997499 |  0.7659728 | 1 |\n",
       "| -1.2539382 |  0.2568246 |  0.4200829 |  0.5765486 | -0.6993571 | -0.3178002 |  0.4491018 |  1.0464631 |  1.5634983 |  1.5343544 | ⋯ |  1.8083779 | -0.3386922 |  0.320052 | -0.2066643 | -0.4666999 | -1.5753845 | -0.1499079 | -0.4997499 |  0.7659728 | 2 |\n",
       "\n"
      ],
      "text/plain": [
       "  V1         V2         V3         V4         V5         V6         V7        \n",
       "1 -1.2539382 -1.2358595  1.3433419 -0.7330651  1.8322523  1.3374093  0.4491018\n",
       "2 -0.4587967  2.2470700 -0.5031762  0.9658932 -0.6993571 -0.3178002 -0.9631679\n",
       "3  1.1314864 -0.7382981  1.3433419 -0.4145104 -0.6993571  0.5098045  0.4491018\n",
       "4 -1.2539382  1.7495086 -0.5031762  1.6383976 -0.6993571  0.5098045  0.4491018\n",
       "5 -1.2539382  0.2568246  0.4200829  0.5765486 -0.6993571 -0.3178002  0.4491018\n",
       "  V8         V9         V10        ⋯ V16        V17        V18       V19       \n",
       "1  1.0464631 -1.2930760  2.7650729 ⋯ -0.5524288 -0.3386922  0.320052 -0.2066643\n",
       "2 -0.7655942 -1.2930760 -1.1908081 ⋯ -0.5524288 -0.3386922  0.320052 -0.2066643\n",
       "3  0.1404344 -1.2930760  1.1827205 ⋯ -0.5524288 -0.3386922  0.320052 -0.2066643\n",
       "4  1.0464631 -0.3408845  0.8310866 ⋯ -0.5524288 -0.3386922 -3.121368 -0.2066643\n",
       "5  1.0464631  1.5634983  1.5343544 ⋯  1.8083779 -0.3386922  0.320052 -0.2066643\n",
       "  V20        V21        V22        V23        V24        class\n",
       "1 -0.4666999  0.6341309 -0.1499079 -0.4997499  0.7659728 1    \n",
       "2 -0.4666999  0.6341309 -0.1499079 -0.4997499  0.7659728 2    \n",
       "3 -0.4666999  0.6341309 -0.1499079  1.9989997 -1.3042239 1    \n",
       "4 -0.4666999 -1.5753845 -0.1499079 -0.4997499  0.7659728 1    \n",
       "5 -0.4666999 -1.5753845 -0.1499079 -0.4997499  0.7659728 2    "
      ]
     },
     "metadata": {},
     "output_type": "display_data"
    }
   ],
   "source": [
    "data.credit <- read.csv(file = 'data/german.data-numeric', header = FALSE, sep = \"\")\n",
    "colnames(data.credit)[dim(data.credit)[2]] <- \"class\"\n",
    "data.credit[, -25] <- scale(data.credit[, -25])\n",
    "data.credit[1:5,]"
   ]
  },
  {
   "cell_type": "code",
   "execution_count": 150,
   "metadata": {},
   "outputs": [],
   "source": [
    "get_means_est <- function(data) {\n",
    "    return(as.vector(apply(data, 2, mean)))\n",
    "}"
   ]
  },
  {
   "cell_type": "code",
   "execution_count": 151,
   "metadata": {},
   "outputs": [],
   "source": [
    "get_sigma_est <- function(data.1, data.2, p, mu.1, mu.2, n.1, n.2) {\n",
    "    S.1 <- matrix(0, p, p)\n",
    "    S.2 <- matrix(0, p, p)\n",
    "    \n",
    "    for (l in 1:p) {\n",
    "        for (j in 1:p) {\n",
    "            S.1[l, j] <- (1 / (n.1 - 1)) * sum((data.1[,l] - mu.1[l]) * (data.1[,j] - mu.1[j]))\n",
    "            S.2[l, j] <- (1 / (n.2 - 1)) * sum((data.2[,l] - mu.2[l]) * (data.2[,j] - mu.2[j]))\n",
    "        }\n",
    "    }\n",
    "    S <- (1 / (n.1 + n.2 - 2)) * ((n.1 - 1) * S.1 + (n.2 - 1) * S.2)\n",
    "    \n",
    "    return(S)\n",
    "}"
   ]
  },
  {
   "cell_type": "code",
   "execution_count": 152,
   "metadata": {},
   "outputs": [],
   "source": [
    "get_sigma_squared_est <- function(alpha, sigma, p) {\n",
    "    sigma_squared = 0\n",
    "    for (l in 1:p) {\n",
    "        for (j in 1:p) {\n",
    "            sigma_squared = sigma_squared + alpha[l] * sigma[l, j] * alpha[j]\n",
    "        }\n",
    "    }\n",
    "    \n",
    "    return(sigma_squared)\n",
    "}"
   ]
  },
  {
   "cell_type": "code",
   "execution_count": 226,
   "metadata": {},
   "outputs": [],
   "source": [
    "get_dist_mah <- function(xi.1, xi.2, sigma.squared, n.1, n.2, p) {\n",
    "    dist.mah.skew <- (xi.1 - xi.2)^2 / sigma.squared\n",
    "    dist.mah <- ((n.1 + n.2 - p - 3) / (n.1 + n.2 - 2)) * dist.mah.skew - p * ((1 / n.1) + (1 / n.2))\n",
    "\n",
    "    return(dist.mah)\n",
    "}"
   ]
  },
  {
   "cell_type": "code",
   "execution_count": 154,
   "metadata": {},
   "outputs": [],
   "source": [
    "predict_class_est <- function(alpha, data, q1, q2, xi1, xi2) {\n",
    "    predicted <- matrix(0, dim(data)[1], 1)\n",
    "    \n",
    "    for (i in 1:dim(data)[1]) {\n",
    "        alpha_X <- sum(alpha * data[i,])\n",
    "        predicted[i] = ifelse(alpha_X >= (xi1 + xi2) * 0.5 + log(q2 / q1), 1, 2)\n",
    "    }\n",
    "    \n",
    "    return(predicted)\n",
    "}"
   ]
  },
  {
   "cell_type": "code",
   "execution_count": 155,
   "metadata": {},
   "outputs": [],
   "source": [
    "p <- dim(data.credit)[2] - 1\n",
    "n <- dim(data.credit)[1]"
   ]
  },
  {
   "cell_type": "markdown",
   "metadata": {},
   "source": [
    "##### Stratified data sampling"
   ]
  },
  {
   "cell_type": "code",
   "execution_count": 156,
   "metadata": {},
   "outputs": [],
   "source": [
    "data.credit.test <- stratified(data.credit, \"class\", 0.2, keep.rownames = TRUE)\n",
    "test.index <- apply(data.credit.test[, 1], 2, as.numeric)\n",
    "data.credit.test[, 1] <- NULL\n",
    "data.credit.train <- data.credit[-test.index,]"
   ]
  },
  {
   "cell_type": "code",
   "execution_count": 157,
   "metadata": {},
   "outputs": [],
   "source": [
    "data.credit.train.1 <- data.credit.train[data.credit.train$class == 1,]\n",
    "data.credit.train.2 <- data.credit.train[data.credit.train$class == 2,]\n",
    "\n",
    "data.credit.test.1 <- data.credit.test[data.credit.test$class == 1,]\n",
    "data.credit.test.2 <- data.credit.test[data.credit.test$class == 2,]"
   ]
  },
  {
   "cell_type": "code",
   "execution_count": 158,
   "metadata": {},
   "outputs": [],
   "source": [
    "n.train.1 <- dim(data.credit.train.1)[1]\n",
    "n.train.2 <- dim(data.credit.train.2)[1]\n",
    "n.train <- n.train.1 + n.train.2\n",
    "\n",
    "n.test.1 <- dim(data.credit.test.1)[1]\n",
    "n.test.2 <- dim(data.credit.test.2)[1]\n",
    "n.test <- n.test.1 + n.test.2"
   ]
  },
  {
   "cell_type": "code",
   "execution_count": 159,
   "metadata": {},
   "outputs": [
    {
     "data": {
      "text/html": [
       "800"
      ],
      "text/latex": [
       "800"
      ],
      "text/markdown": [
       "800"
      ],
      "text/plain": [
       "[1] 800"
      ]
     },
     "metadata": {},
     "output_type": "display_data"
    },
    {
     "data": {
      "text/html": [
       "200"
      ],
      "text/latex": [
       "200"
      ],
      "text/markdown": [
       "200"
      ],
      "text/plain": [
       "[1] 200"
      ]
     },
     "metadata": {},
     "output_type": "display_data"
    }
   ],
   "source": [
    "n.train\n",
    "n.test"
   ]
  },
  {
   "cell_type": "code",
   "execution_count": 179,
   "metadata": {},
   "outputs": [
    {
     "data": {
      "text/html": [
       "0.7"
      ],
      "text/latex": [
       "0.7"
      ],
      "text/markdown": [
       "0.7"
      ],
      "text/plain": [
       "[1] 0.7"
      ]
     },
     "metadata": {},
     "output_type": "display_data"
    },
    {
     "data": {
      "text/html": [
       "0.3"
      ],
      "text/latex": [
       "0.3"
      ],
      "text/markdown": [
       "0.3"
      ],
      "text/plain": [
       "[1] 0.3"
      ]
     },
     "metadata": {},
     "output_type": "display_data"
    }
   ],
   "source": [
    "q1 <- n.train.1 / n.train\n",
    "q2 <- n.train.2 / n.train\n",
    "q1\n",
    "q2"
   ]
  },
  {
   "cell_type": "code",
   "execution_count": 180,
   "metadata": {},
   "outputs": [],
   "source": [
    "mu.1 <- get_means_est(data.credit.train.1[,-25])\n",
    "mu.2 <- get_means_est(data.credit.train.2[,-25])"
   ]
  },
  {
   "cell_type": "code",
   "execution_count": 181,
   "metadata": {},
   "outputs": [],
   "source": [
    "sigma <- get_sigma_est(data.credit.train.1, data.credit.train.2, p, mu.1, mu.2, n.train.1, n.train.2)"
   ]
  },
  {
   "cell_type": "code",
   "execution_count": 182,
   "metadata": {},
   "outputs": [],
   "source": [
    "alpha <- inv(sigma) %*% (mu.1 - mu.2)"
   ]
  },
  {
   "cell_type": "code",
   "execution_count": 222,
   "metadata": {},
   "outputs": [],
   "source": [
    "alpha_z.1 <- t(apply(data.credit.train.1[,-25], 1, function(x) alpha * x))\n",
    "alpha_z.2 <- t(apply(data.credit.train.2[,-25], 1, function(x) alpha * x))\n",
    "                     \n",
    "z.1 <- as.matrix(apply(alpha_z.1, 1, sum))\n",
    "z.2 <- as.matrix(apply(alpha_z.2, 1, sum))"
   ]
  },
  {
   "cell_type": "code",
   "execution_count": 223,
   "metadata": {},
   "outputs": [
    {
     "data": {
      "text/html": [
       "0.504178833947051"
      ],
      "text/latex": [
       "0.504178833947051"
      ],
      "text/markdown": [
       "0.504178833947051"
      ],
      "text/plain": [
       "[1] 0.5041788"
      ]
     },
     "metadata": {},
     "output_type": "display_data"
    },
    {
     "data": {
      "text/html": [
       "-1.17597933671361"
      ],
      "text/latex": [
       "-1.17597933671361"
      ],
      "text/markdown": [
       "-1.17597933671361"
      ],
      "text/plain": [
       "[1] -1.175979"
      ]
     },
     "metadata": {},
     "output_type": "display_data"
    }
   ],
   "source": [
    "xi.1 <- mean(z.1)\n",
    "xi.2 <- mean(z.2)\n",
    "xi.1\n",
    "xi.2"
   ]
  },
  {
   "cell_type": "code",
   "execution_count": 224,
   "metadata": {},
   "outputs": [
    {
     "data": {
      "text/html": [
       "1.68015816089171"
      ],
      "text/latex": [
       "1.68015816089171"
      ],
      "text/markdown": [
       "1.68015816089171"
      ],
      "text/plain": [
       "[1] 1.680158"
      ]
     },
     "metadata": {},
     "output_type": "display_data"
    }
   ],
   "source": [
    "sigma.squared <- get_sigma_squared_est(alpha, sigma, p)\n",
    "sigma.squared"
   ]
  },
  {
   "cell_type": "code",
   "execution_count": 227,
   "metadata": {},
   "outputs": [
    {
     "data": {
      "text/html": [
       "1.48466450309785"
      ],
      "text/latex": [
       "1.48466450309785"
      ],
      "text/markdown": [
       "1.48466450309785"
      ],
      "text/plain": [
       "[1] 1.484665"
      ]
     },
     "metadata": {},
     "output_type": "display_data"
    }
   ],
   "source": [
    "dist.mah <- get_dist_mah(xi.1, xi.2, sigma.squared, n.train.1, n.train.2, p)\n",
    "dist.mah"
   ]
  },
  {
   "cell_type": "code",
   "execution_count": 228,
   "metadata": {},
   "outputs": [
    {
     "data": {
      "text/html": [
       "200"
      ],
      "text/latex": [
       "200"
      ],
      "text/markdown": [
       "200"
      ],
      "text/plain": [
       "[1] 200"
      ]
     },
     "metadata": {},
     "output_type": "display_data"
    }
   ],
   "source": [
    "n.test"
   ]
  },
  {
   "cell_type": "code",
   "execution_count": 232,
   "metadata": {},
   "outputs": [
    {
     "data": {
      "text/html": [
       "<table>\n",
       "<caption>A data.frame: 2 × 2</caption>\n",
       "<thead>\n",
       "\t<tr><th></th><th scope=col>1_pred</th><th scope=col>2_pred</th></tr>\n",
       "\t<tr><th></th><th scope=col>&lt;dbl&gt;</th><th scope=col>&lt;dbl&gt;</th></tr>\n",
       "</thead>\n",
       "<tbody>\n",
       "\t<tr><th scope=row>1_real</th><td>120</td><td>20</td></tr>\n",
       "\t<tr><th scope=row>2_real</th><td> 27</td><td>33</td></tr>\n",
       "</tbody>\n",
       "</table>\n"
      ],
      "text/latex": [
       "A data.frame: 2 × 2\n",
       "\\begin{tabular}{r|ll}\n",
       "  & 1\\_pred & 2\\_pred\\\\\n",
       "  & <dbl> & <dbl>\\\\\n",
       "\\hline\n",
       "\t1\\_real & 120 & 20\\\\\n",
       "\t2\\_real &  27 & 33\\\\\n",
       "\\end{tabular}\n"
      ],
      "text/markdown": [
       "\n",
       "A data.frame: 2 × 2\n",
       "\n",
       "| <!--/--> | 1_pred &lt;dbl&gt; | 2_pred &lt;dbl&gt; |\n",
       "|---|---|---|\n",
       "| 1_real | 120 | 20 |\n",
       "| 2_real |  27 | 33 |\n",
       "\n"
      ],
      "text/plain": [
       "       1_pred 2_pred\n",
       "1_real 120    20    \n",
       "2_real  27    33    "
      ]
     },
     "metadata": {},
     "output_type": "display_data"
    }
   ],
   "source": [
    "data.pred.test <- predict_class_est(alpha, data.credit.test[, -25], q1, q2, xi.1, xi.2)\n",
    "get_conf_table(data.pred.test, data.credit.test$class)"
   ]
  },
  {
   "cell_type": "code",
   "execution_count": 233,
   "metadata": {},
   "outputs": [
    {
     "data": {
      "text/html": [
       "<table>\n",
       "<caption>A data.frame: 2 × 2</caption>\n",
       "<thead>\n",
       "\t<tr><th></th><th scope=col>1_pred</th><th scope=col>2_pred</th></tr>\n",
       "\t<tr><th></th><th scope=col>&lt;dbl&gt;</th><th scope=col>&lt;dbl&gt;</th></tr>\n",
       "</thead>\n",
       "<tbody>\n",
       "\t<tr><th scope=row>1_real</th><td>507</td><td> 53</td></tr>\n",
       "\t<tr><th scope=row>2_real</th><td>111</td><td>129</td></tr>\n",
       "</tbody>\n",
       "</table>\n"
      ],
      "text/latex": [
       "A data.frame: 2 × 2\n",
       "\\begin{tabular}{r|ll}\n",
       "  & 1\\_pred & 2\\_pred\\\\\n",
       "  & <dbl> & <dbl>\\\\\n",
       "\\hline\n",
       "\t1\\_real & 507 &  53\\\\\n",
       "\t2\\_real & 111 & 129\\\\\n",
       "\\end{tabular}\n"
      ],
      "text/markdown": [
       "\n",
       "A data.frame: 2 × 2\n",
       "\n",
       "| <!--/--> | 1_pred &lt;dbl&gt; | 2_pred &lt;dbl&gt; |\n",
       "|---|---|---|\n",
       "| 1_real | 507 |  53 |\n",
       "| 2_real | 111 | 129 |\n",
       "\n"
      ],
      "text/plain": [
       "       1_pred 2_pred\n",
       "1_real 507     53   \n",
       "2_real 111    129   "
      ]
     },
     "metadata": {},
     "output_type": "display_data"
    }
   ],
   "source": [
    "data.pred.train <- predict_class_est(alpha, data.credit.train[, -25], q1, q2, xi.1, xi.2)\n",
    "get_conf_table(data.pred.train, data.credit.train$class)"
   ]
  },
  {
   "cell_type": "code",
   "execution_count": 236,
   "metadata": {},
   "outputs": [
    {
     "data": {
      "text/html": [
       "0.096012218859641"
      ],
      "text/latex": [
       "0.096012218859641"
      ],
      "text/markdown": [
       "0.096012218859641"
      ],
      "text/plain": [
       "[1] 0.09601222"
      ]
     },
     "metadata": {},
     "output_type": "display_data"
    },
    {
     "data": {
      "text/html": [
       "0.534324644201265"
      ],
      "text/latex": [
       "0.534324644201265"
      ],
      "text/markdown": [
       "0.534324644201265"
      ],
      "text/plain": [
       "[1] 0.5343246"
      ]
     },
     "metadata": {},
     "output_type": "display_data"
    }
   ],
   "source": [
    "K <- log(q2 / q1)\n",
    "\n",
    "p_2_1 <- pnorm((K - 0.5 * dist.mah) / sqrt(dist.mah))\n",
    "p_1_2 <- pnorm((-K - 0.5 * dist.mah) / sqrt(dist.mah))\n",
    "p_2_1\n",
    "p_1_2"
   ]
  },
  {
   "cell_type": "code",
   "execution_count": null,
   "metadata": {},
   "outputs": [],
   "source": []
  }
 ],
 "metadata": {
  "kernelspec": {
   "display_name": "R 3.6.0",
   "language": "R",
   "name": "ir36"
  },
  "language_info": {
   "codemirror_mode": "r",
   "file_extension": ".r",
   "mimetype": "text/x-r-source",
   "name": "R",
   "pygments_lexer": "r",
   "version": "3.6.1"
  }
 },
 "nbformat": 4,
 "nbformat_minor": 4
}
