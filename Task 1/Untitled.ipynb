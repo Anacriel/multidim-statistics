{
 "cells": [
  {
   "cell_type": "code",
   "execution_count": 1,
   "metadata": {},
   "outputs": [],
   "source": [
    "%matplotlib inline"
   ]
  },
  {
   "cell_type": "code",
   "execution_count": 2,
   "metadata": {},
   "outputs": [],
   "source": [
    "import numpy as np\n",
    "import pandas as pd\n",
    "import seaborn as sns\n",
    "import scipy.stats as st\n",
    "\n",
    "import matplotlib.pyplot as plt "
   ]
  },
  {
   "cell_type": "code",
   "execution_count": 3,
   "metadata": {},
   "outputs": [],
   "source": [
    "sns.set(color_codes = True)\n",
    "plt.style.use(\"seaborn-whitegrid\")"
   ]
  },
  {
   "cell_type": "code",
   "execution_count": 4,
   "metadata": {},
   "outputs": [
    {
     "name": "stderr",
     "output_type": "stream",
     "text": [
      "/Users/anacriel/anaconda3/envs/py37/lib/python3.7/site-packages/ipykernel_launcher.py:1: ParserWarning: Falling back to the 'python' engine because the 'c' engine does not support regex separators (separators > 1 char and different from '\\s+' are interpreted as regex); you can avoid this warning by specifying engine='python'.\n",
      "  \"\"\"Entry point for launching an IPython kernel.\n"
     ]
    }
   ],
   "source": [
    "data = pd.read_csv('Number_4.txt', sep = \"  \", header = None)"
   ]
  },
  {
   "cell_type": "code",
   "execution_count": 5,
   "metadata": {},
   "outputs": [
    {
     "data": {
      "text/plain": [
       "array([2.5217541e-01, 7.9250846e-01, 1.0066616e-01, 1.2315810e-01,\n",
       "       7.4583717e-01, 2.8327408e+00, 2.3278622e-01, 1.1127354e+00,\n",
       "       1.4274152e+00, 1.3373784e+00, 5.6646486e-02, 2.1032705e-01,\n",
       "       1.5651400e+00, 1.5934244e+00, 6.3393846e-02, 3.2760875e-01,\n",
       "       1.4959911e-01, 2.0470280e+00, 1.7394108e-02, 2.0074706e+00,\n",
       "       3.9931954e-01, 2.0238399e+00, 5.0323319e+00, 2.7391897e+00,\n",
       "       4.3615141e+00, 4.6223650e-03, 5.4693743e-01, 9.8298016e-01,\n",
       "       1.1396645e-02, 1.5125014e+00, 1.3176543e+00, 2.8713537e-01,\n",
       "       1.8503878e-02, 1.0792601e-01, 1.2225260e-01, 1.1301830e+00,\n",
       "       3.6705350e-02, 9.2952841e-03, 1.2572116e+00, 1.4898966e-01,\n",
       "       3.4690931e-01, 3.0214260e-01, 6.4176636e-01, 2.3673612e+00,\n",
       "       6.5406626e-02, 2.3693005e+00, 2.2466320e-01, 3.1865818e+00,\n",
       "       9.4968394e-03, 1.1884773e+00, 1.2030597e+00, 5.4489350e-02,\n",
       "       2.7324536e-01, 1.2161412e-01, 9.9323336e-01, 3.7822516e-01,\n",
       "       3.1547647e+00, 4.2115819e-01, 4.8395055e-01, 5.3011041e-02])"
      ]
     },
     "execution_count": 5,
     "metadata": {},
     "output_type": "execute_result"
    }
   ],
   "source": [
    "data_vec = data.values.flatten()\n",
    "data_vec"
   ]
  },
  {
   "cell_type": "code",
   "execution_count": 6,
   "metadata": {},
   "outputs": [
    {
     "name": "stdout",
     "output_type": "stream",
     "text": [
      "max: 5.0323319\n",
      "min: 0.004622365\n"
     ]
    }
   ],
   "source": [
    "print(f\"max: {np.max(data_vec)}\\n\"\n",
    "      f\"min: {np.min(data_vec)}\")"
   ]
  },
  {
   "cell_type": "code",
   "execution_count": 7,
   "metadata": {},
   "outputs": [
    {
     "data": {
      "text/plain": [
       "<BarContainer object of 6 artists>"
      ]
     },
     "execution_count": 7,
     "metadata": {},
     "output_type": "execute_result"
    },
    {
     "data": {
      "image/png": "[encoded data removed]",
      "text/plain": [
       "<Figure size 504x360 with 1 Axes>"
      ]
     },
     "metadata": {},
     "output_type": "display_data"
    }
   ],
   "source": [
    "n = data_vec.shape[0] \n",
    "n_bins = np.sqrt(n) - 1\n",
    "\n",
    "plt.figure(figsize = (7, 5))\n",
    "\n",
    "bin_width_s = (np.max(data_vec) - np.min(data_vec)) / n_bins\n",
    "bins_s = np.arange(np.min(data_vec), np.max(data_vec), bin_width_s)\n",
    "\n",
    "hist_s, edges_s = np.histogram(data_vec, bins_s)\n",
    "freq_s = hist_s / float(hist_s.sum())\n",
    "\n",
    "plt.bar(bins_s[:-1], freq_s, width = bin_width_s, align = \"edge\", \n",
    "        color = \"indianred\", alpha = 0.6)"
   ]
  },
  {
   "cell_type": "code",
   "execution_count": 8,
   "metadata": {},
   "outputs": [
    {
     "data": {
      "text/plain": [
       "array([35, 11,  6,  4,  2,  1])"
      ]
     },
     "execution_count": 8,
     "metadata": {},
     "output_type": "execute_result"
    }
   ],
   "source": [
    "hist_s"
   ]
  },
  {
   "cell_type": "code",
   "execution_count": 9,
   "metadata": {},
   "outputs": [],
   "source": [
    "for _ in range(2):\n",
    "    data_vec = np.delete(data_vec, np.where(data_vec == np.max(data_vec)))"
   ]
  },
  {
   "cell_type": "code",
   "execution_count": 10,
   "metadata": {},
   "outputs": [
    {
     "name": "stdout",
     "output_type": "stream",
     "text": [
      "Sample size: 58\n",
      "max: 3.1865818\n",
      "min: 0.004622365\n"
     ]
    }
   ],
   "source": [
    "n = data_vec.shape[0] \n",
    "print(f\"Sample size: {n}\")\n",
    "print(f\"max: {np.max(data_vec)}\\n\"\n",
    "      f\"min: {np.min(data_vec)}\")"
   ]
  },
  {
   "cell_type": "code",
   "execution_count": 11,
   "metadata": {},
   "outputs": [],
   "source": [
    "def hist_from_dist(dist_params, samp_size, distr = \"poisson\", n_bins = 0):\n",
    "    np.random.seed(seed = 40)\n",
    "    \n",
    "    if n_bins == 0:\n",
    "        n_bins = np.sqrt(samp_size)\n",
    "    \n",
    "    if distr == \"poisson\":\n",
    "        sample = st.poisson.rvs(mu = dist_params[\"mu\"], size = samp_size)\n",
    "    elif distr == \"chisq\":\n",
    "        sample = st.chi2.rvs(df = dist_params[\"df\"], size = samp_size)\n",
    "    elif distr == \"gamma\":\n",
    "        sample = st.gamma.rvs(a = dist_params[\"a\"],\n",
    "                              size = samp_size)\n",
    "    else:\n",
    "        sample = st.gaussian.rvs(loc = 0, scale = 1, size = samp_size)\n",
    "    \n",
    "    bin_width = (np.max(sample) - np.min(sample)) / n_bins\n",
    "    bins = np.arange(np.min(sample), np.max(sample), bin_width)\n",
    "\n",
    "    hist, edges = np.histogram(sample, bins)\n",
    "    \n",
    "    return bin_width, bins, hist"
   ]
  },
  {
   "cell_type": "code",
   "execution_count": 12,
   "metadata": {},
   "outputs": [],
   "source": [
    "n_bins = 5"
   ]
  },
  {
   "cell_type": "code",
   "execution_count": 13,
   "metadata": {},
   "outputs": [],
   "source": [
    "bin_width_s = (np.max(data_vec) - np.min(data_vec)) / n_bins\n",
    "bins_s = np.arange(np.min(data_vec), np.max(data_vec), bin_width_s)\n",
    "\n",
    "hist_s, edges_s = np.histogram(data_vec, bins_s)\n",
    "freq_s = hist_s / float(hist_s.sum())"
   ]
  },
  {
   "cell_type": "markdown",
   "metadata": {},
   "source": [
    "Check that frequences are >= than 5"
   ]
  },
  {
   "cell_type": "code",
   "execution_count": 14,
   "metadata": {},
   "outputs": [
    {
     "data": {
      "text/plain": [
       "array([33, 10,  6,  5])"
      ]
     },
     "execution_count": 14,
     "metadata": {},
     "output_type": "execute_result"
    }
   ],
   "source": [
    "hist_s"
   ]
  },
  {
   "cell_type": "code",
   "execution_count": 33,
   "metadata": {},
   "outputs": [
    {
     "name": "stdout",
     "output_type": "stream",
     "text": [
      "[499  76  17   5]\n",
      "[399 135  41  17]\n"
     ]
    }
   ],
   "source": [
    "# Generate Chi-square data (df = 1)\n",
    "n_chi = 600\n",
    "bin_width_chi, bins_chi, hist_chi = hist_from_dist(dist_params = {\"df\": 1}, \n",
    "                                               samp_size = n_chi, \n",
    "                                               distr = \"chisq\",\n",
    "                                               n_bins = n_bins)\n",
    "print(hist_chi)\n",
    "freq_chi = hist_chi / float(hist_chi.sum())\n",
    "\n",
    "# Generate Chi-square data (df = 2)\n",
    "n_chi2 = 600\n",
    "bin_width_chi2, bins_chi2, hist_chi2 = hist_from_dist(dist_params = {\"df\": 2}, \n",
    "                                             samp_size = n_chi2, \n",
    "                                             distr = \"chisq\",\n",
    "                                             n_bins = n_bins)\n",
    "print(hist_chi2)\n",
    "freq_chi2 = hist_chi2 / float(hist_chi2.sum())"
   ]
  },
  {
   "cell_type": "code",
   "execution_count": 34,
   "metadata": {},
   "outputs": [
    {
     "data": {
      "image/png": "[encoded data removed]",
      "text/plain": [
       "<Figure size 1080x504 with 3 Axes>"
      ]
     },
     "metadata": {},
     "output_type": "display_data"
    }
   ],
   "source": [
    "fig, axs = plt.subplots(1, 3, figsize = (15, 7))\n",
    "\n",
    "legends = [\"Sample hist\", \"Chi-square (df = 1)\", \n",
    "           \"Chi-square (df = 2)\"]\n",
    "\n",
    "# Plot histograms\n",
    "axs[0].bar(bins_s[:-1], freq_s, width = bin_width_s, align = \"edge\", \n",
    "        color = \"indianred\", alpha = 0.6)\n",
    "axs[1].bar(bins_chi[:-1], freq_chi, width = bin_width_chi, align = \"edge\", \n",
    "        color = \"skyblue\", alpha = 0.6)\n",
    "axs[2].bar(bins_chi2[:-1], freq_chi2, width = bin_width_chi2, align = \"edge\", \n",
    "        color = \"indigo\", alpha = 0.6)\n",
    "\n",
    "for i in range(3):\n",
    "    axs[i].set_title(legends[i])\n",
    "    axs[i].grid(True)\n",
    "    \n",
    "plt.grid(True)"
   ]
  },
  {
   "cell_type": "code",
   "execution_count": 35,
   "metadata": {},
   "outputs": [
    {
     "data": {
      "text/plain": [
       "Power_divergenceResult(statistic=1.173399641081651, pvalue=0.759390988497517)"
      ]
     },
     "execution_count": 35,
     "metadata": {},
     "output_type": "execute_result"
    }
   ],
   "source": [
    "st.chisquare(freq_s, f_exp = freq_chi)"
   ]
  },
  {
   "cell_type": "code",
   "execution_count": 36,
   "metadata": {},
   "outputs": [
    {
     "data": {
      "text/plain": [
       "Power_divergenceResult(statistic=0.18130007899782483, pvalue=0.9805501081381843)"
      ]
     },
     "execution_count": 36,
     "metadata": {},
     "output_type": "execute_result"
    }
   ],
   "source": [
    "st.chisquare(freq_s, f_exp = freq_chi2)"
   ]
  },
  {
   "cell_type": "code",
   "execution_count": 37,
   "metadata": {},
   "outputs": [
    {
     "data": {
      "text/plain": [
       "array([0.61111111, 0.18518519, 0.11111111, 0.09259259])"
      ]
     },
     "execution_count": 37,
     "metadata": {},
     "output_type": "execute_result"
    }
   ],
   "source": [
    "freq_s"
   ]
  },
  {
   "cell_type": "code",
   "execution_count": 38,
   "metadata": {},
   "outputs": [
    {
     "data": {
      "text/plain": [
       "array([0.67398649, 0.22804054, 0.06925676, 0.02871622])"
      ]
     },
     "execution_count": 38,
     "metadata": {},
     "output_type": "execute_result"
    }
   ],
   "source": [
    "freq_chi2"
   ]
  },
  {
   "cell_type": "code",
   "execution_count": null,
   "metadata": {},
   "outputs": [],
   "source": []
  }
 ],
 "metadata": {
  "kernelspec": {
   "display_name": "Python 3",
   "language": "python",
   "name": "python3"
  },
  "language_info": {
   "codemirror_mode": {
    "name": "ipython",
    "version": 3
   },
   "file_extension": ".py",
   "mimetype": "text/x-python",
   "name": "python",
   "nbconvert_exporter": "python",
   "pygments_lexer": "ipython3",
   "version": "3.7.3"
  }
 },
 "nbformat": 4,
 "nbformat_minor": 2
}
